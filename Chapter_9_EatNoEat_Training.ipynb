{
  "nbformat": 4,
  "nbformat_minor": 0,
  "metadata": {
    "colab": {
      "name": "Chapter_9_EatNoEat_Training.ipynb",
      "provenance": [],
      "collapsed_sections": [],
      "authorship_tag": "ABX9TyM+ZeHH9ASAi9Fxz1X+1/cn",
      "include_colab_link": true
    },
    "kernelspec": {
      "name": "python3",
      "display_name": "Python 3"
    },
    "accelerator": "GPU",
    "widgets": {
      "application/vnd.jupyter.widget-state+json": {
        "4d67ebb6e4b94cd8820a0b496080fdce": {
          "model_module": "@jupyter-widgets/controls",
          "model_name": "LabelModel",
          "state": {
            "_view_name": "LabelView",
            "style": "IPY_MODEL_df9a2c75cc6e4ebc81794d10b6adf16f",
            "_dom_classes": [],
            "description": "",
            "_model_name": "LabelModel",
            "placeholder": "​",
            "_view_module": "@jupyter-widgets/controls",
            "_model_module_version": "1.5.0",
            "value": "Images Trained 31",
            "_view_count": null,
            "_view_module_version": "1.5.0",
            "description_tooltip": null,
            "_model_module": "@jupyter-widgets/controls",
            "layout": "IPY_MODEL_17a6c2e679af4018ad25267afdd03257"
          }
        },
        "df9a2c75cc6e4ebc81794d10b6adf16f": {
          "model_module": "@jupyter-widgets/controls",
          "model_name": "DescriptionStyleModel",
          "state": {
            "_view_name": "StyleView",
            "_model_name": "DescriptionStyleModel",
            "description_width": "",
            "_view_module": "@jupyter-widgets/base",
            "_model_module_version": "1.5.0",
            "_view_count": null,
            "_view_module_version": "1.2.0",
            "_model_module": "@jupyter-widgets/controls"
          }
        },
        "17a6c2e679af4018ad25267afdd03257": {
          "model_module": "@jupyter-widgets/base",
          "model_name": "LayoutModel",
          "state": {
            "_view_name": "LayoutView",
            "grid_template_rows": null,
            "right": null,
            "justify_content": null,
            "_view_module": "@jupyter-widgets/base",
            "overflow": null,
            "_model_module_version": "1.2.0",
            "_view_count": null,
            "flex_flow": null,
            "width": null,
            "min_width": null,
            "border": null,
            "align_items": null,
            "bottom": null,
            "_model_module": "@jupyter-widgets/base",
            "top": null,
            "grid_column": null,
            "overflow_y": null,
            "overflow_x": null,
            "grid_auto_flow": null,
            "grid_area": null,
            "grid_template_columns": null,
            "flex": null,
            "_model_name": "LayoutModel",
            "justify_items": null,
            "grid_row": null,
            "max_height": null,
            "align_content": null,
            "visibility": null,
            "align_self": null,
            "height": null,
            "min_height": null,
            "padding": null,
            "grid_auto_rows": null,
            "grid_gap": null,
            "max_width": null,
            "order": null,
            "_view_module_version": "1.2.0",
            "grid_template_areas": null,
            "object_position": null,
            "object_fit": null,
            "grid_auto_columns": null,
            "margin": null,
            "display": null,
            "left": null
          }
        },
        "06fe3c0115ef4c5999b5780f070aa62a": {
          "model_module": "@jupyter-widgets/controls",
          "model_name": "ToggleButtonsModel",
          "state": {
            "_options_labels": [
              "Eat",
              "No Eat"
            ],
            "_view_name": "ToggleButtonsView",
            "style": "IPY_MODEL_cf1bcb6ad9d9405890270fd5057e2845",
            "_dom_classes": [],
            "description": "",
            "_model_name": "ToggleButtonsModel",
            "tooltips": [],
            "index": 0,
            "button_style": "",
            "_view_module": "@jupyter-widgets/controls",
            "_model_module_version": "1.5.0",
            "_view_count": null,
            "disabled": false,
            "_view_module_version": "1.5.0",
            "icons": [],
            "description_tooltip": null,
            "_model_module": "@jupyter-widgets/controls",
            "layout": "IPY_MODEL_689d1341a06f475d9f29f2bc48fef8d0"
          }
        },
        "cf1bcb6ad9d9405890270fd5057e2845": {
          "model_module": "@jupyter-widgets/controls",
          "model_name": "ToggleButtonsStyleModel",
          "state": {
            "_view_name": "StyleView",
            "button_width": "",
            "_model_name": "ToggleButtonsStyleModel",
            "description_width": "",
            "_view_module": "@jupyter-widgets/base",
            "_model_module_version": "1.5.0",
            "_view_count": null,
            "font_weight": "",
            "_view_module_version": "1.2.0",
            "_model_module": "@jupyter-widgets/controls"
          }
        },
        "689d1341a06f475d9f29f2bc48fef8d0": {
          "model_module": "@jupyter-widgets/base",
          "model_name": "LayoutModel",
          "state": {
            "_view_name": "LayoutView",
            "grid_template_rows": null,
            "right": null,
            "justify_content": null,
            "_view_module": "@jupyter-widgets/base",
            "overflow": null,
            "_model_module_version": "1.2.0",
            "_view_count": null,
            "flex_flow": null,
            "width": null,
            "min_width": null,
            "border": null,
            "align_items": null,
            "bottom": null,
            "_model_module": "@jupyter-widgets/base",
            "top": null,
            "grid_column": null,
            "overflow_y": null,
            "overflow_x": null,
            "grid_auto_flow": null,
            "grid_area": null,
            "grid_template_columns": null,
            "flex": null,
            "_model_name": "LayoutModel",
            "justify_items": null,
            "grid_row": null,
            "max_height": null,
            "align_content": null,
            "visibility": null,
            "align_self": null,
            "height": null,
            "min_height": null,
            "padding": null,
            "grid_auto_rows": null,
            "grid_gap": null,
            "max_width": null,
            "order": null,
            "_view_module_version": "1.2.0",
            "grid_template_areas": null,
            "object_position": null,
            "object_fit": null,
            "grid_auto_columns": null,
            "margin": null,
            "display": null,
            "left": null
          }
        },
        "89e0addf9b3040eba019ea628e15fb16": {
          "model_module": "@jupyter-widgets/controls",
          "model_name": "ButtonModel",
          "state": {
            "_view_name": "ButtonView",
            "style": "IPY_MODEL_b08c2cbeca5a4198b5e38cd85cd9fd85",
            "_dom_classes": [],
            "description": "Train!",
            "_model_name": "ButtonModel",
            "button_style": "",
            "_view_module": "@jupyter-widgets/controls",
            "_model_module_version": "1.5.0",
            "tooltip": "",
            "_view_count": null,
            "disabled": false,
            "_view_module_version": "1.5.0",
            "layout": "IPY_MODEL_18f811444d164affbd9a06de6d0f88b5",
            "_model_module": "@jupyter-widgets/controls",
            "icon": ""
          }
        },
        "b08c2cbeca5a4198b5e38cd85cd9fd85": {
          "model_module": "@jupyter-widgets/controls",
          "model_name": "ButtonStyleModel",
          "state": {
            "_view_name": "StyleView",
            "_model_name": "ButtonStyleModel",
            "_view_module": "@jupyter-widgets/base",
            "_model_module_version": "1.5.0",
            "_view_count": null,
            "button_color": null,
            "font_weight": "",
            "_view_module_version": "1.2.0",
            "_model_module": "@jupyter-widgets/controls"
          }
        },
        "18f811444d164affbd9a06de6d0f88b5": {
          "model_module": "@jupyter-widgets/base",
          "model_name": "LayoutModel",
          "state": {
            "_view_name": "LayoutView",
            "grid_template_rows": null,
            "right": null,
            "justify_content": null,
            "_view_module": "@jupyter-widgets/base",
            "overflow": null,
            "_model_module_version": "1.2.0",
            "_view_count": null,
            "flex_flow": null,
            "width": null,
            "min_width": null,
            "border": null,
            "align_items": null,
            "bottom": null,
            "_model_module": "@jupyter-widgets/base",
            "top": null,
            "grid_column": null,
            "overflow_y": null,
            "overflow_x": null,
            "grid_auto_flow": null,
            "grid_area": null,
            "grid_template_columns": null,
            "flex": null,
            "_model_name": "LayoutModel",
            "justify_items": null,
            "grid_row": null,
            "max_height": null,
            "align_content": null,
            "visibility": null,
            "align_self": null,
            "height": null,
            "min_height": null,
            "padding": null,
            "grid_auto_rows": null,
            "grid_gap": null,
            "max_width": null,
            "order": null,
            "_view_module_version": "1.2.0",
            "grid_template_areas": null,
            "object_position": null,
            "object_fit": null,
            "grid_auto_columns": null,
            "margin": null,
            "display": null,
            "left": null
          }
        },
        "487e8bd01f8e44f4863ee7ea8f77b69c": {
          "model_module": "@jupyter-widgets/output",
          "model_name": "OutputModel",
          "state": {
            "_view_name": "OutputView",
            "msg_id": "",
            "_dom_classes": [],
            "_model_name": "OutputModel",
            "outputs": [],
            "_view_module": "@jupyter-widgets/output",
            "_model_module_version": "1.0.0",
            "_view_count": null,
            "_view_module_version": "1.0.0",
            "layout": "IPY_MODEL_97d5b65265b34c0facf54d5f80cb8bc8",
            "_model_module": "@jupyter-widgets/output"
          }
        },
        "97d5b65265b34c0facf54d5f80cb8bc8": {
          "model_module": "@jupyter-widgets/base",
          "model_name": "LayoutModel",
          "state": {
            "_view_name": "LayoutView",
            "grid_template_rows": null,
            "right": null,
            "justify_content": null,
            "_view_module": "@jupyter-widgets/base",
            "overflow": null,
            "_model_module_version": "1.2.0",
            "_view_count": null,
            "flex_flow": null,
            "width": null,
            "min_width": null,
            "border": null,
            "align_items": null,
            "bottom": null,
            "_model_module": "@jupyter-widgets/base",
            "top": null,
            "grid_column": null,
            "overflow_y": null,
            "overflow_x": null,
            "grid_auto_flow": null,
            "grid_area": null,
            "grid_template_columns": null,
            "flex": null,
            "_model_name": "LayoutModel",
            "justify_items": null,
            "grid_row": null,
            "max_height": null,
            "align_content": null,
            "visibility": null,
            "align_self": null,
            "height": null,
            "min_height": null,
            "padding": null,
            "grid_auto_rows": null,
            "grid_gap": null,
            "max_width": null,
            "order": null,
            "_view_module_version": "1.2.0",
            "grid_template_areas": null,
            "object_position": null,
            "object_fit": null,
            "grid_auto_columns": null,
            "margin": null,
            "display": null,
            "left": null
          }
        }
      }
    }
  },
  "cells": [
    {
      "cell_type": "markdown",
      "metadata": {
        "id": "view-in-github",
        "colab_type": "text"
      },
      "source": [
        "<a href=\"https://colab.research.google.com/github/cxbxmxcx/EatNoEat/blob/master/Chapter_9_EatNoEat_Training.ipynb\" target=\"_parent\"><img src=\"https://colab.research.google.com/assets/colab-badge.svg\" alt=\"Open In Colab\"/></a>"
      ]
    },
    {
      "cell_type": "code",
      "metadata": {
        "id": "RO4iZLjFVZwP",
        "colab_type": "code",
        "colab": {}
      },
      "source": [
        "import tensorflow as tf\n",
        "import numpy as np\n",
        "import random\n",
        "import matplotlib\n",
        "import matplotlib.pyplot as plt\n",
        "\n",
        "import math\n",
        "import glob\n",
        "import pickle\n",
        "import io\n",
        "import os\n",
        "import datetime\n",
        "import base64\n",
        "from IPython.display import HTML\n",
        "\n",
        "from IPython import display as ipythondisplay"
      ],
      "execution_count": 0,
      "outputs": []
    },
    {
      "cell_type": "code",
      "metadata": {
        "id": "u5lBVDeFx26r",
        "colab_type": "code",
        "colab": {
          "base_uri": "https://localhost:8080/",
          "height": 125
        },
        "outputId": "b9633a2e-c638-46b8-d8e6-adb769db7d28"
      },
      "source": [
        "from google.colab import drive\n",
        "drive.mount('/content/gdrive')"
      ],
      "execution_count": 2,
      "outputs": [
        {
          "output_type": "stream",
          "text": [
            "Go to this URL in a browser: https://accounts.google.com/o/oauth2/auth?client_id=947318989803-6bn6qk8qdgf4n4g3pfee6491hc0brc4i.apps.googleusercontent.com&redirect_uri=urn%3aietf%3awg%3aoauth%3a2.0%3aoob&response_type=code&scope=email%20https%3a%2f%2fwww.googleapis.com%2fauth%2fdocs.test%20https%3a%2f%2fwww.googleapis.com%2fauth%2fdrive%20https%3a%2f%2fwww.googleapis.com%2fauth%2fdrive.photos.readonly%20https%3a%2f%2fwww.googleapis.com%2fauth%2fpeopleapi.readonly\n",
            "\n",
            "Enter your authorization code:\n",
            "··········\n",
            "Mounted at /content/gdrive\n"
          ],
          "name": "stdout"
        }
      ]
    },
    {
      "cell_type": "code",
      "metadata": {
        "id": "U1t9MJoKx9SV",
        "colab_type": "code",
        "colab": {}
      },
      "source": [
        "use_NAS = False\n",
        "if use_NAS:\n",
        "  IMG_SIZE = 224 # 299 for Inception, 224 for NASNetMobile\n",
        "  IMG_SHAPE = (IMG_SIZE, IMG_SIZE, 3)\n",
        "else:\n",
        "  IMG_SIZE = 299 # 299 for Inception, 224 for NASNetMobile\n",
        "  IMG_SHAPE = (IMG_SIZE, IMG_SIZE, 3)"
      ],
      "execution_count": 0,
      "outputs": []
    },
    {
      "cell_type": "code",
      "metadata": {
        "id": "wz9chPb_0VuH",
        "colab_type": "code",
        "colab": {}
      },
      "source": [
        "def load_image(image_path):\n",
        "  img = tf.io.read_file(image_path)\n",
        "  img = tf.image.decode_jpeg(img, channels=3)\n",
        "  img = tf.image.resize(img, (IMG_SIZE, IMG_SIZE))\n",
        "  if use_NAS:\n",
        "    img = tf.keras.applications.nasnet.preprocess_input(img)\n",
        "  else:\n",
        "    img = tf.keras.applications.inception_v3.preprocess_input(img)\n",
        "  return img, image_path"
      ],
      "execution_count": 0,
      "outputs": []
    },
    {
      "cell_type": "code",
      "metadata": {
        "id": "VuCf8uy10gjj",
        "colab_type": "code",
        "colab": {}
      },
      "source": [
        "def create_model(image_batch):\n",
        "  tf.keras.backend.clear_session()\n",
        "\n",
        "  if use_NAS:\n",
        "    # Create the base model from the pre-trained model \n",
        "    base_model = tf.keras.applications.NASNetMobile(input_shape=IMG_SHAPE,\n",
        "                                                  include_top=False,\n",
        "                                                  weights='imagenet')\n",
        "  else:\n",
        "    # Create the base model from the pre-trained model \n",
        "    base_model = tf.keras.applications.InceptionResNetV2(input_shape=IMG_SHAPE,\n",
        "                                                include_top=False,\n",
        "                                                weights='imagenet')\n",
        "  feature_batch = base_model(image_batch)\n",
        "    \n",
        "  global_average_layer = tf.keras.layers.GlobalAveragePooling2D()\n",
        "  feature_batch_average = global_average_layer(feature_batch)\n",
        "  prediction_layer = tf.keras.layers.Dense(3)\n",
        "  prediction_batch = prediction_layer(feature_batch_average)\n",
        "\n",
        "  model = tf.keras.Sequential([\n",
        "                               base_model,\n",
        "                               global_average_layer,\n",
        "                               prediction_layer])\n",
        "\n",
        "  base_learning_rate = 0.0001\n",
        "  model.compile(optimizer=tf.keras.optimizers.Nadam(lr=base_learning_rate),\n",
        "                loss=tf.keras.losses.MeanAbsoluteError(),\n",
        "                metrics=['mae', 'mse', 'accuracy'])\n",
        "  return model"
      ],
      "execution_count": 0,
      "outputs": []
    },
    {
      "cell_type": "code",
      "metadata": {
        "id": "FWr2QM0f5Ts3",
        "colab_type": "code",
        "colab": {
          "base_uri": "https://localhost:8080/",
          "height": 54
        },
        "outputId": "6ba05ae4-d649-417e-cbfd-437170db2f1e"
      },
      "source": [
        "import os\n",
        "from os import listdir\n",
        "\n",
        "my_drive = '/content/gdrive/My Drive/'\n",
        "image_folder = my_drive + 'TestImages/'\n",
        "models = my_drive + 'Models'\n",
        "training_folder = my_drive + \"Traning/\"\n",
        "\n",
        "def get_test_images(directory):  \n",
        "  images = []\n",
        "  for file in listdir(directory):    \n",
        "    if file.endswith(\".jpg\"):      \n",
        "      images.append(image_folder + file)\n",
        "  return images\n",
        "\n",
        "images = get_test_images(image_folder)\n",
        "print(images)"
      ],
      "execution_count": 6,
      "outputs": [
        {
          "output_type": "stream",
          "text": [
            "['/content/gdrive/My Drive/TestImages/french_toast.jpg', '/content/gdrive/My Drive/TestImages/pizza.jpg', '/content/gdrive/My Drive/TestImages/bip.jpg', '/content/gdrive/My Drive/TestImages/poutine.jpg', '/content/gdrive/My Drive/TestImages/hot_dog.jpg', '/content/gdrive/My Drive/TestImages/apple_pie.jpg', '/content/gdrive/My Drive/TestImages/ramen.jpg', '/content/gdrive/My Drive/TestImages/hamburger.jpg', '/content/gdrive/My Drive/TestImages/ribs.jpg', '/content/gdrive/My Drive/TestImages/fish_and_chips.jpg', '/content/gdrive/My Drive/TestImages/steak.jpg', '/content/gdrive/My Drive/TestImages/prime_rib.jpg', '/content/gdrive/My Drive/TestImages/pie.jpg', '/content/gdrive/My Drive/TestImages/french_toast2.jpg', '/content/gdrive/My Drive/TestImages/fried_chicken.jpg', '/content/gdrive/My Drive/TestImages/peking_duck.jpg', '/content/gdrive/My Drive/TestImages/beef_taco.jpg', '/content/gdrive/My Drive/TestImages/shrimp_and_grits.jpg', '/content/gdrive/My Drive/TestImages/chocolate_cake.jpg', '/content/gdrive/My Drive/TestImages/churro.jpg', '/content/gdrive/My Drive/TestImages/french_fries.jpg', '/content/gdrive/My Drive/TestImages/hamburger3.jpg', '/content/gdrive/My Drive/TestImages/hamburger2.jpg', '/content/gdrive/My Drive/TestImages/salad.jpg', '/content/gdrive/My Drive/TestImages/oyster.jpg', '/content/gdrive/My Drive/TestImages/ribeye.jpg', '/content/gdrive/My Drive/TestImages/tartar.jpg', '/content/gdrive/My Drive/TestImages/beignet.jpg', '/content/gdrive/My Drive/TestImages/steak2.jpg', '/content/gdrive/My Drive/TestImages/donuts.jpg', '/content/gdrive/My Drive/TestImages/dumplings.jpg']\n"
          ],
          "name": "stdout"
        }
      ]
    },
    {
      "cell_type": "code",
      "metadata": {
        "id": "CDt_OvIG0jQP",
        "colab_type": "code",
        "colab": {
          "base_uri": "https://localhost:8080/",
          "height": 318
        },
        "outputId": "736c1cbf-5182-4c77-bb30-a1769971b179"
      },
      "source": [
        "if len(images) < 0:\n",
        "  raise Exception('Test images need to be loaded!')\n",
        "else: \n",
        "  x, _ = load_image(images[0])\n",
        "  img = x[np.newaxis, ...]\n",
        "\n",
        "  food_model = create_model(img)\n",
        "  food_model.summary()"
      ],
      "execution_count": 7,
      "outputs": [
        {
          "output_type": "stream",
          "text": [
            "Downloading data from https://storage.googleapis.com/tensorflow/keras-applications/inception_resnet_v2/inception_resnet_v2_weights_tf_dim_ordering_tf_kernels_notop.h5\n",
            "219062272/219055592 [==============================] - 3s 0us/step\n",
            "Model: \"sequential\"\n",
            "_________________________________________________________________\n",
            "Layer (type)                 Output Shape              Param #   \n",
            "=================================================================\n",
            "inception_resnet_v2 (Model)  (None, 8, 8, 1536)        54336736  \n",
            "_________________________________________________________________\n",
            "global_average_pooling2d (Gl (None, 1536)              0         \n",
            "_________________________________________________________________\n",
            "dense (Dense)                (None, 3)                 4611      \n",
            "=================================================================\n",
            "Total params: 54,341,347\n",
            "Trainable params: 54,280,803\n",
            "Non-trainable params: 60,544\n",
            "_________________________________________________________________\n"
          ],
          "name": "stdout"
        }
      ]
    },
    {
      "cell_type": "code",
      "metadata": {
        "id": "nKwdHw9FH-80",
        "colab_type": "code",
        "colab": {}
      },
      "source": [
        "latest = tf.train.latest_checkpoint(models)\n",
        "latest\n",
        "if latest != None:\n",
        "  food_model.load_weights(latest)"
      ],
      "execution_count": 0,
      "outputs": []
    },
    {
      "cell_type": "code",
      "metadata": {
        "id": "PKX4ZRsLYAfd",
        "colab_type": "code",
        "colab": {}
      },
      "source": [
        "def observe_image(image, model):  \n",
        "  x, _ = load_image(image)  \n",
        "  img = x[np.newaxis, ...]\n",
        "  return model.predict(img)"
      ],
      "execution_count": 0,
      "outputs": []
    },
    {
      "cell_type": "code",
      "metadata": {
        "id": "ChwFtD9KarPs",
        "colab_type": "code",
        "colab": {}
      },
      "source": [
        "import ipywidgets as widgets\n",
        "from IPython.display import display\n",
        "from IPython.display import Javascript\n",
        "\n",
        "test_states = []"
      ],
      "execution_count": 0,
      "outputs": []
    },
    {
      "cell_type": "code",
      "metadata": {
        "id": "HgH7nNQYh1Cc",
        "colab_type": "code",
        "colab": {
          "base_uri": "https://localhost:8080/",
          "height": 400,
          "referenced_widgets": [
            "4d67ebb6e4b94cd8820a0b496080fdce",
            "df9a2c75cc6e4ebc81794d10b6adf16f",
            "17a6c2e679af4018ad25267afdd03257",
            "06fe3c0115ef4c5999b5780f070aa62a",
            "cf1bcb6ad9d9405890270fd5057e2845",
            "689d1341a06f475d9f29f2bc48fef8d0",
            "89e0addf9b3040eba019ea628e15fb16",
            "b08c2cbeca5a4198b5e38cd85cd9fd85",
            "18f811444d164affbd9a06de6d0f88b5",
            "487e8bd01f8e44f4863ee7ea8f77b69c",
            "97d5b65265b34c0facf54d5f80cb8bc8"
          ]
        },
        "outputId": "c4059c3d-beb2-42a2-b46f-3223c04850d4"
      },
      "source": [
        "#@title Eat/No Eat Training { run: \"auto\", vertical-output: true, display-mode: \"form\" }\n",
        "image_idx = 32 #@param {type:\"slider\", min:0, max:100, step:1}\n",
        "\n",
        "val = f\"Images Trained {len(test_states)}\"\n",
        "label = widgets.Label(\n",
        "    value= val,    \n",
        "    disabled=False\n",
        ")\n",
        "display(label)\n",
        "\n",
        "cnt = len(images)\n",
        "image_idx = image_idx if image_idx < cnt else cnt - 1\n",
        "image = images[image_idx]\n",
        "x, _ = load_image(image)  \n",
        "img = x[np.newaxis, ...]\n",
        "predict = food_model.predict(img)\n",
        "print(predict+5)\n",
        "print(image_idx,image)\n",
        "plt.imshow((x+1)/2)\n",
        "\n",
        "toggle = widgets.ToggleButtons(\n",
        "    options=['Eat', 'No Eat'],\n",
        "    disabled=False,\n",
        "    button_style='', # 'success', 'info', 'warning', 'danger' or ''\n",
        "    tooltip='Description',\n",
        "#     icon='check'\n",
        ")\n",
        "display(toggle)\n",
        "\n",
        "button = widgets.Button(description=\"Train!\")\n",
        "output = widgets.Output()\n",
        "\n",
        "def button_clicked(b):\n",
        "  # Display the message within the output widget.\n",
        "  with output:    \n",
        "    test_states.append((predict,toggle.index,image))     \n",
        "\n",
        "button.on_click(button_clicked)\n",
        "display(button, output)\n"
      ],
      "execution_count": 42,
      "outputs": [
        {
          "output_type": "display_data",
          "data": {
            "application/vnd.jupyter.widget-view+json": {
              "model_id": "4d67ebb6e4b94cd8820a0b496080fdce",
              "version_minor": 0,
              "version_major": 2
            },
            "text/plain": [
              "Label(value='Images Trained 31')"
            ]
          },
          "metadata": {
            "tags": []
          }
        },
        {
          "output_type": "stream",
          "text": [
            "[[5.6356325 4.563932  6.4432826]]\n",
            "30 /content/gdrive/My Drive/TestImages/dumplings.jpg\n"
          ],
          "name": "stdout"
        },
        {
          "output_type": "display_data",
          "data": {
            "application/vnd.jupyter.widget-view+json": {
              "model_id": "06fe3c0115ef4c5999b5780f070aa62a",
              "version_minor": 0,
              "version_major": 2
            },
            "text/plain": [
              "ToggleButtons(options=('Eat', 'No Eat'), value='Eat')"
            ]
          },
          "metadata": {
            "tags": []
          }
        },
        {
          "output_type": "display_data",
          "data": {
            "application/vnd.jupyter.widget-view+json": {
              "model_id": "89e0addf9b3040eba019ea628e15fb16",
              "version_minor": 0,
              "version_major": 2
            },
            "text/plain": [
              "Button(description='Train!', style=ButtonStyle())"
            ]
          },
          "metadata": {
            "tags": []
          }
        },
        {
          "output_type": "display_data",
          "data": {
            "application/vnd.jupyter.widget-view+json": {
              "model_id": "487e8bd01f8e44f4863ee7ea8f77b69c",
              "version_minor": 0,
              "version_major": 2
            },
            "text/plain": [
              "Output()"
            ]
          },
          "metadata": {
            "tags": []
          }
        },
        {
          "output_type": "display_data",
          "data": {
            "image/png": "[encoded data removed]",
            "text/plain": [
              "<Figure size 432x288 with 1 Axes>"
            ]
          },
          "metadata": {
            "tags": [],
            "needs_background": "light"
          }
        }
      ]
    },
    {
      "cell_type": "code",
      "metadata": {
        "id": "31t2BvCuHato",
        "colab_type": "code",
        "colab": {}
      },
      "source": [
        "if len(test_states) > 0:\n",
        "  if os.path.isdir(training_folder) == False:\n",
        "    os.makedirs(training_folder)\n",
        "  pickle.dump( test_states, open( training_folder + \"food_test.p\", \"wb\" ) )"
      ],
      "execution_count": 0,
      "outputs": []
    }
  ]
}