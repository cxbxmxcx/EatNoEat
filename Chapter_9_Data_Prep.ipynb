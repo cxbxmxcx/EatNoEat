{
  "nbformat": 4,
  "nbformat_minor": 0,
  "metadata": {
    "colab": {
      "name": "Chapter_9_Data_Prep.ipynb",
      "provenance": [],
      "authorship_tag": "ABX9TyMped4frPcS/FuphSGiL4ww",
      "include_colab_link": true
    },
    "kernelspec": {
      "name": "python3",
      "display_name": "Python 3"
    }
  },
  "cells": [
    {
      "cell_type": "markdown",
      "metadata": {
        "id": "view-in-github",
        "colab_type": "text"
      },
      "source": [
        "<a href=\"https://colab.research.google.com/github/cxbxmxcx/EatNoEat/blob/master/Chapter_9_Data_Prep.ipynb\" target=\"_parent\"><img src=\"https://colab.research.google.com/assets/colab-badge.svg\" alt=\"Open In Colab\"/></a>"
      ]
    },
    {
      "cell_type": "markdown",
      "metadata": {
        "id": "d8L9WZAaZmzC",
        "colab_type": "text"
      },
      "source": [
        "Imports\n"
      ]
    },
    {
      "cell_type": "code",
      "metadata": {
        "id": "sfdy3VuQZdeD",
        "colab_type": "code",
        "colab": {}
      },
      "source": [
        "import tensorflow as tf\n",
        "import matplotlib.pyplot as plt\n",
        "\n",
        "# Scikit-learn includes many helpful utilities\n",
        "from sklearn.model_selection import train_test_split\n",
        "from sklearn.utils import shuffle\n",
        "\n",
        "import re\n",
        "import numpy as np\n",
        "import os\n",
        "import time\n",
        "import json\n",
        "from glob import glob\n",
        "from PIL import Image\n",
        "import pickle"
      ],
      "execution_count": 0,
      "outputs": []
    },
    {
      "cell_type": "markdown",
      "metadata": {
        "id": "Qfo3YiOEZvhC",
        "colab_type": "text"
      },
      "source": [
        "Download Recipe Data"
      ]
    },
    {
      "cell_type": "code",
      "metadata": {
        "id": "4UalwM6oZ0ne",
        "colab_type": "code",
        "colab": {
          "base_uri": "https://localhost:8080/",
          "height": 87
        },
        "outputId": "2324fcd2-81a0-487b-ac79-e878fd193e86"
      },
      "source": [
        "data_folder = 'data'\n",
        "recipes_zip = tf.keras.utils.get_file('recipes.zip',                                     \n",
        "                                          origin = 'https://www.dropbox.com/s/i1hvs96mnahozq0/Recipes5k.zip?dl=1',\n",
        "                                          extract = True)\n",
        "print(recipes_zip)\n",
        "data_folder = os.path.dirname(recipes_zip)\n",
        "os.remove(recipes_zip)\n",
        "print(data_folder)"
      ],
      "execution_count": 10,
      "outputs": [
        {
          "output_type": "stream",
          "text": [
            "Downloading data from https://www.dropbox.com/s/i1hvs96mnahozq0/Recipes5k.zip?dl=1\n",
            "164929536/164925728 [==============================] - 5s 0us/step\n",
            "/root/.keras/datasets/recipes.zip\n",
            "/root/.keras/datasets\n"
          ],
          "name": "stdout"
        }
      ]
    },
    {
      "cell_type": "markdown",
      "metadata": {
        "id": "f3kHYdkVaAPm",
        "colab_type": "text"
      },
      "source": [
        "Setup Folder Paths"
      ]
    },
    {
      "cell_type": "code",
      "metadata": {
        "id": "zom2OgexaCbw",
        "colab_type": "code",
        "colab": {
          "base_uri": "https://localhost:8080/",
          "height": 70
        },
        "outputId": "85a6eb9b-e719-4c99-817a-88e4c36ebacb"
      },
      "source": [
        "!dir /root/.keras/datasets\n",
        "data_folder = data_folder + '/Recipes5k/'\n",
        "annotations_folder = data_folder + 'annotations/'\n",
        "images_folder = data_folder + 'images/'\n",
        "print(annotations_folder)\n",
        "print(images_folder)"
      ],
      "execution_count": 11,
      "outputs": [
        {
          "output_type": "stream",
          "text": [
            "Recipes5k\n",
            "/root/.keras/datasets/Recipes5k/annotations/\n",
            "/root/.keras/datasets/Recipes5k/images/\n"
          ],
          "name": "stdout"
        }
      ]
    },
    {
      "cell_type": "code",
      "metadata": {
        "id": "XJvGEKqiaIFd",
        "colab_type": "code",
        "colab": {
          "base_uri": "https://localhost:8080/",
          "height": 615
        },
        "outputId": "45342909-7135-4b8d-9a16-c3a5887f6b6c"
      },
      "source": [
        "%ls /root/.keras/datasets/Recipes5k/images/"
      ],
      "execution_count": 12,
      "outputs": [
        {
          "output_type": "stream",
          "text": [
            "\u001b[0m\u001b[01;34mapple_pie\u001b[0m/            \u001b[01;34mdumplings\u001b[0m/                \u001b[01;34momelette\u001b[0m/\n",
            "\u001b[01;34mbaby_back_ribs\u001b[0m/       \u001b[01;34medamame\u001b[0m/                  \u001b[01;34monion_rings\u001b[0m/\n",
            "\u001b[01;34mbaklava\u001b[0m/              \u001b[01;34meggs_benedict\u001b[0m/            \u001b[01;34moysters\u001b[0m/\n",
            "\u001b[01;34mbeef_carpaccio\u001b[0m/       \u001b[01;34mescargots\u001b[0m/                \u001b[01;34mpad_thai\u001b[0m/\n",
            "\u001b[01;34mbeef_tacos\u001b[0m/           \u001b[01;34mfalafel\u001b[0m/                  \u001b[01;34mpaella\u001b[0m/\n",
            "\u001b[01;34mbeef_tartare\u001b[0m/         \u001b[01;34mfilet_mignon\u001b[0m/             \u001b[01;34mpancakes\u001b[0m/\n",
            "\u001b[01;34mbeet_salad\u001b[0m/           \u001b[01;34mfish_and_chips\u001b[0m/           \u001b[01;34mpanna_cotta\u001b[0m/\n",
            "\u001b[01;34mbeignets\u001b[0m/             \u001b[01;34mfoie_gras\u001b[0m/                \u001b[01;34mpeking_duck\u001b[0m/\n",
            "\u001b[01;34mbibimbap\u001b[0m/             \u001b[01;34mfrench_fries\u001b[0m/             \u001b[01;34mpho\u001b[0m/\n",
            "\u001b[01;34mbread_pudding\u001b[0m/        \u001b[01;34mfrench_onion_soup\u001b[0m/        \u001b[01;34mpizza\u001b[0m/\n",
            "\u001b[01;34mbreakfast_burrito\u001b[0m/    \u001b[01;34mfrench_toast\u001b[0m/             \u001b[01;34mpork_chop\u001b[0m/\n",
            "\u001b[01;34mbruschetta\u001b[0m/           \u001b[01;34mfried_calamari\u001b[0m/           \u001b[01;34mpoutine\u001b[0m/\n",
            "\u001b[01;34mcaesar_salad\u001b[0m/         \u001b[01;34mfried_rice\u001b[0m/               \u001b[01;34mprime_rib\u001b[0m/\n",
            "\u001b[01;34mcannoli\u001b[0m/              \u001b[01;34mfrozen_yogurt\u001b[0m/            \u001b[01;34mpulled_pork_sandwich\u001b[0m/\n",
            "\u001b[01;34mcaprese_salad\u001b[0m/        \u001b[01;34mgarlic_bread\u001b[0m/             \u001b[01;34mramen\u001b[0m/\n",
            "\u001b[01;34mcarrot_cake\u001b[0m/          \u001b[01;34mgnocchi\u001b[0m/                  \u001b[01;34mravioli\u001b[0m/\n",
            "\u001b[01;34mceviche\u001b[0m/              \u001b[01;34mgreek_salad\u001b[0m/              \u001b[01;34mred_velvet_cake\u001b[0m/\n",
            "\u001b[01;34mcheesecake\u001b[0m/           \u001b[01;34mgrilled_cheese_sandwich\u001b[0m/  \u001b[01;34mrisotto\u001b[0m/\n",
            "\u001b[01;34mcheese_plate\u001b[0m/         \u001b[01;34mgrilled_salmon\u001b[0m/           \u001b[01;34msamosa\u001b[0m/\n",
            "\u001b[01;34mchicken_curry\u001b[0m/        \u001b[01;34mguacamole\u001b[0m/                \u001b[01;34msashimi\u001b[0m/\n",
            "\u001b[01;34mchicken_quesadilla\u001b[0m/   \u001b[01;34mgyoza\u001b[0m/                    \u001b[01;34mscallops\u001b[0m/\n",
            "\u001b[01;34mchicken_wings\u001b[0m/        \u001b[01;34mhamburger\u001b[0m/                \u001b[01;34mseaweed_salad\u001b[0m/\n",
            "\u001b[01;34mchocolate_cake\u001b[0m/       \u001b[01;34mhot_and_sour_soup\u001b[0m/        \u001b[01;34mshrimp_and_grits\u001b[0m/\n",
            "\u001b[01;34mchocolate_ice_cream\u001b[0m/  \u001b[01;34mhot_dog\u001b[0m/                  \u001b[01;34mspaghetti_bolognese\u001b[0m/\n",
            "\u001b[01;34mchocolate_mousse\u001b[0m/     \u001b[01;34mhuevos_rancheros\u001b[0m/         \u001b[01;34mspaghetti_carbonara\u001b[0m/\n",
            "\u001b[01;34mchurros\u001b[0m/              \u001b[01;34mhummus\u001b[0m/                   \u001b[01;34mspring_rolls\u001b[0m/\n",
            "\u001b[01;34mclam_chowder\u001b[0m/         \u001b[01;34mlasagna\u001b[0m/                  \u001b[01;34msteak\u001b[0m/\n",
            "\u001b[01;34mclub_sandwich\u001b[0m/        \u001b[01;34mlobster_bisque\u001b[0m/           \u001b[01;34mstrawberry_shortcake\u001b[0m/\n",
            "\u001b[01;34mcrab_cakes\u001b[0m/           \u001b[01;34mlobster_roll_sandwich\u001b[0m/    \u001b[01;34msushi\u001b[0m/\n",
            "\u001b[01;34mcreme_brulee\u001b[0m/         \u001b[01;34mmacaroni_and_cheese\u001b[0m/      \u001b[01;34mtakoyaki\u001b[0m/\n",
            "\u001b[01;34mcroque_madame\u001b[0m/        \u001b[01;34mmacarons\u001b[0m/                 \u001b[01;34mtiramisu\u001b[0m/\n",
            "\u001b[01;34mcupcakes\u001b[0m/             \u001b[01;34mmiso_soup\u001b[0m/                \u001b[01;34mtuna_tartare\u001b[0m/\n",
            "\u001b[01;34mdeviled_eggs\u001b[0m/         \u001b[01;34mmussels\u001b[0m/                  \u001b[01;34mwaffles\u001b[0m/\n",
            "\u001b[01;34mdonuts\u001b[0m/               \u001b[01;34mnachos\u001b[0m/\n"
          ],
          "name": "stdout"
        }
      ]
    },
    {
      "cell_type": "markdown",
      "metadata": {
        "id": "QgpQX_ygaXtZ",
        "colab_type": "text"
      },
      "source": [
        "Extra Imports"
      ]
    },
    {
      "cell_type": "code",
      "metadata": {
        "id": "MdBft1WfaVf6",
        "colab_type": "code",
        "colab": {}
      },
      "source": [
        "from fastprogress.fastprogress import master_bar, progress_bar\n",
        "from IPython.display import Image\n",
        "from os import listdir\n",
        "from pickle import dump"
      ],
      "execution_count": 0,
      "outputs": []
    },
    {
      "cell_type": "code",
      "metadata": {
        "id": "_5nnzgbGd9ZI",
        "colab_type": "code",
        "colab": {}
      },
      "source": [
        "def load_image(image_path):\n",
        "  img = tf.io.read_file(image_path)\n",
        "  img = tf.image.decode_jpeg(img, channels=3)\n",
        "  img = tf.image.resize(img, (299, 299))\n",
        "  img = tf.keras.applications.inception_v3.preprocess_input(img)\n",
        "  return img, image_path"
      ],
      "execution_count": 0,
      "outputs": []
    },
    {
      "cell_type": "code",
      "metadata": {
        "id": "CfdeiuITB1x5",
        "colab_type": "code",
        "colab": {}
      },
      "source": [
        "os.remove(foods_txt)"
      ],
      "execution_count": 0,
      "outputs": []
    },
    {
      "cell_type": "code",
      "metadata": {
        "id": "6_YdiN3J5Izo",
        "colab_type": "code",
        "colab": {
          "base_uri": "https://localhost:8080/",
          "height": 90
        },
        "outputId": "e263214e-6b81-47c3-94d5-63631c9f0d1b"
      },
      "source": [
        "foods_txt = tf.keras.utils.get_file('foods.txt',\n",
        "                        origin = 'https://www.dropbox.com/s/6jjje7mhqo9ycyi/foods.txt?dl=1')\n",
        "\n",
        "print(foods_txt)"
      ],
      "execution_count": 74,
      "outputs": [
        {
          "output_type": "stream",
          "text": [
            "Downloading data from https://www.dropbox.com/s/6jjje7mhqo9ycyi/foods.txt?dl=1\n",
            "8192/2298 [==========================================================================================================] - 0s 0us/step\n",
            "/root/.keras/datasets/foods.txt\n"
          ],
          "name": "stdout"
        }
      ]
    },
    {
      "cell_type": "code",
      "metadata": {
        "id": "KEgleHaB8MJm",
        "colab_type": "code",
        "colab": {}
      },
      "source": [
        "def get_nutrient_array(fat, protein, carbs):\n",
        "  nutrients = np.array([float(fat)*9, float(protein)*4, float(carbs)*4])  \n",
        "  nutrients /= np.linalg.norm(nutrients)\n",
        "  return nutrients"
      ],
      "execution_count": 0,
      "outputs": []
    },
    {
      "cell_type": "code",
      "metadata": {
        "id": "Wtb1TZRB6wRy",
        "colab_type": "code",
        "colab": {}
      },
      "source": [
        "import csv\n",
        "\n",
        "def get_food_nutrients(nutrient_file):\n",
        "  foods = {}\n",
        "  with open(foods_txt) as csv_file:\n",
        "    csv_reader = csv.reader(csv_file, delimiter=',')\n",
        "    line_count = 0\n",
        "    for row in csv_reader:\n",
        "      if line_count == 0:\n",
        "        print(f'Column names are {\", \".join(row)}')\n",
        "        line_count += 1\n",
        "      else:        \n",
        "        nutrients = get_nutrient_array(row[1],row[2],row[3])\n",
        "        foods[row[0]] = nutrients\n",
        "        line_count += 1\n",
        "    print(f'Processed {line_count} lines.')\n",
        "  return foods"
      ],
      "execution_count": 0,
      "outputs": []
    },
    {
      "cell_type": "code",
      "metadata": {
        "id": "A_E6in757P02",
        "colab_type": "code",
        "colab": {
          "base_uri": "https://localhost:8080/",
          "height": 90
        },
        "outputId": "f9728432-0dc1-421a-8bab-e092473fa477"
      },
      "source": [
        "food_nutrients = get_food_nutrients(foods_txt)\n",
        "print(food_nutrients)"
      ],
      "execution_count": 80,
      "outputs": [
        {
          "output_type": "stream",
          "text": [
            "Column names are name, fat, protein, carbs\n",
            "Processed 102 lines.\n",
            "{'apple_pie': array([0.58792538, 0.04513367, 0.80765506]), 'baby_back_ribs': array([0.88610838, 0.45289984, 0.09845649]), 'baklava': array([0.63449807, 0.07690886, 0.76908857]), 'beef_carpaccio': array([0.58430473, 0.81153434, 0.        ]), 'beef_tacos': array([0.65023083, 0.26676137, 0.71136365]), 'beef_tartare': array([0.94727127, 0.31575709, 0.05453986]), 'beet_salad': array([0.97348113, 0.09454385, 0.20831695]), 'beignets': array([0.42745936, 0.1341049 , 0.89403265]), 'bibimbap': array([0.2970349 , 0.21602538, 0.93010929]), 'bread_pudding': array([0.22121196, 0.10370363, 0.96969626]), 'breakfast_burrito': array([0.63018909, 0.29008704, 0.7202161 ]), 'bruschetta': array([0.86706091, 0.10223847, 0.48759888]), 'caesar_salad': array([0.96329712, 0.10703301, 0.24617593]), 'cannoli': array([0.8716937 , 0.15496777, 0.46490331]), 'caprese_salad': array([0.94681046, 0.12376607, 0.29703858]), 'carrot_cake': array([0.67741557, 0.06623619, 0.73261239]), 'ceviche': array([0.18868391, 0.96760979, 0.16771903]), 'cheesecake': array([0.88735827, 0.09718686, 0.45072166]), 'cheese_plate': array([0.92630594, 0.37052238, 0.06834079]), 'chicken_curry': array([0.6493374 , 0.73460393, 0.19676891]), 'chicken quesadilla': array([0.71378234, 0.38702865, 0.58371534]), 'chicken_wings': array([0.94227336, 0.28993026, 0.16751526]), 'chocolate_cake': array([0.64836523, 0.04977349, 0.75970068]), 'chocolate_ice_cream': array([0.67058035, 0.09934524, 0.73515476]), 'chocolate_mousse': array([0.90866222, 0.10601059, 0.40384988]), 'churros': array([0.53470064, 0.09505789, 0.83967805]), 'clam_chowder': array([0.71480458, 0.20967601, 0.66715094]), 'club_sandwich': array([0.82833803, 0.4481829 , 0.33613717]), 'crab_cakes': array([0.88334989, 0.39259995, 0.25604345]), 'creme_brulee': array([0.97443364, 0.05990962, 0.21654081]), 'croque_madame': array([0.78284854, 0.33877656, 0.52189903]), 'cupcakes': array([0.64407664, 0.04961776, 0.76335009]), 'deviled_eggs': array([0.97055535, 0.23799058, 0.03718603]), 'donuts': array([0.73296656, 0.08609448, 0.67479461]), 'dumplings': array([0.29993716, 0.15682989, 0.94097932]), 'edamame': array([0.61630826, 0.630004  , 0.472503  ]), 'eggs_benedict': array([0.94595102, 0.22932146, 0.22932146]), 'escargots': array([0., 1., 0.]), 'falafel': array([0.75461399, 0.25712773, 0.60369119]), 'filet_mignon': array([0.83773403, 0.54607848, 0.        ]), 'fish_and_chips': array([0.57607516, 0.42343986, 0.69916814]), 'foie_gras': array([0.99215913, 0.116042  , 0.0464168 ]), 'french_fries': array([0.62188443, 0.06503367, 0.78040399]), 'french_onion_soup': array([0.76698046, 0.29827018, 0.56813367]), 'french_toast': array([0.7160083 , 0.21118629, 0.66538145]), 'fried_calamari': array([0.63419434, 0.33823698, 0.6952649 ]), 'fried_rice': array([0.19939943, 0.11888313, 0.97268015]), 'frozen_yogurt': array([0.346664  , 0.12717127, 0.92932854]), 'garlic_bread': array([0.6564794 , 0.14793902, 0.7396951 ]), 'gnocchi': array([0.06407185, 0.14617874, 0.98718112]), 'greek_salad': array([0.84137831, 0.23012056, 0.4890062 ]), 'grilled_cheese_sandwich': array([0.86177468, 0.19983181, 0.46627422]), 'grilled_salmon': array([0.7832889 , 0.62165786, 0.        ]), 'guacamole': array([0.96062159, 0.06247945, 0.2707443 ]), 'gyoza': array([0.72231673, 0.29568521, 0.62516302]), 'hamburger': array([0.75662761, 0.42346236, 0.49819102]), 'hot_and_sour_soup': array([0.47529914, 0.45266585, 0.75444308]), 'hot_dog': array([0.98375075, 0.17488902, 0.04059924]), 'huevos_rancheros': array([0.89359287, 0.26784696, 0.36020798]), 'hummus': array([0.79961719, 0.28798474, 0.52695079]), 'lasagna': array([0.78816896, 0.48165881, 0.38313769]), 'lobster_bisque': array([0.89015377, 0.3956239 , 0.2260708 ]), 'lobster_roll_sandwich': array([0.67972642, 0.57673757, 0.45315094]), 'macaroni_and_cheese': array([0.60007585, 0.1616871 , 0.78343236]), 'macarons': array([0.57688355, 0.10795482, 0.80966112]), 'miso_soup': array([0.70583954, 0.60649916, 0.36599087]), 'mussels': array([0.37756809, 0.88320021, 0.27820807]), 'nachos': array([0.9488572 , 0.29432145, 0.11421429]), 'omelette': array([0.93658695, 0.34965913, 0.02331061]), 'onion_rings': array([0.72373694, 0.08339356, 0.68501851]), 'oysters': array([0.45233048, 0.78739009, 0.41882452]), 'pad_thai': array([0.78910196, 0.49879038, 0.35850558]), 'paella': array([0.76097582, 0.38433122, 0.52269046]), 'pancakes': array([0.61323072, 0.18169799, 0.76872227]), 'panna_cotta': array([0.96990276, 0.03549971, 0.24089088]), 'peking_duck': array([0.87269166, 0.28380217, 0.39732303]), 'pho': array([0.32689912, 0.48775424, 0.80946449]), 'pizza': array([0.5100153 , 0.27200816, 0.81602448]), 'pork_chop': array([0.69112008, 0.72273995, 0.        ]), 'poutine': array([0.87287196, 0.19056854, 0.44919726]), 'prime_rib': array([0.93872966, 0.34465437, 0.        ]), 'pulled_pork_sandwich': array([0.18864742, 0.38008962, 0.90550761]), 'ramen': array([0.54568469, 0.33260781, 0.76915556]), 'ravioli': array([0.58693919, 0.34238119, 0.73367398]), 'red_velvet_cake': array([0.81908933, 0.06647682, 0.56980128]), 'risotto': array([0.46436982, 0.22226248, 0.85729812]), 'samosa': array([0.84453086, 0.07727733, 0.52990172]), 'sashimi': array([0.45334953, 0.88990834, 0.05037217]), 'scallops': array([0.08040523, 0.96486277, 0.25014961]), 'seaweed_salad': array([0.34923852, 0.10347808, 0.93130271]), 'shrimp_and_grits': array([0.82226935, 0.420271  , 0.3837257 ]), 'spaghetti_bolognese': array([0.47783729, 0.33786475, 0.81087541]), 'spaghetti_carbonara': array([0.4683069 , 0.2775152 , 0.83885276]), 'spring_rolls': array([0.58466417, 0.15507222, 0.79631678]), 'steak': array([0.84657748, 0.53226551, 0.        ]), 'strawberry_shortcake': array([0.77952747, 0.08004343, 0.62123262]), 'sushi': array([0.74055513, 0.13511883, 0.65827122]), 'takoyaki': array([0.65265663, 0.34808353, 0.6729615 ]), 'tiramisu': array([0.93988278, 0.07879825, 0.33228179]), 'tuna_tartare': array([0.88781099, 0.44680684, 0.11025104]), 'waffles': array([0.69385395, 0.16540357, 0.70086258])}\n"
          ],
          "name": "stdout"
        }
      ]
    },
    {
      "cell_type": "code",
      "metadata": {
        "id": "eKxoJX7Ydacr",
        "colab_type": "code",
        "colab": {}
      },
      "source": [
        "def load_images(food_w_nutrients, directory):\n",
        "  X = []\n",
        "  Y = []\n",
        "  mb = master_bar(listdir(directory))\n",
        "  for food_group in mb: \n",
        "    try:\n",
        "      for pic in progress_bar(listdir(directory + food_group),\n",
        "                              parent=mb, comment='food = ' + food_group):\n",
        "        filename = directory + food_group + '/' + pic\n",
        "        image, img_path = load_image(filename)\n",
        "        Y.append(food_w_nutrients[food_group])\n",
        "        X.append(image)\n",
        "    except:\n",
        "      continue\n",
        "  return X,Y\n"
      ],
      "execution_count": 0,
      "outputs": []
    },
    {
      "cell_type": "code",
      "metadata": {
        "id": "gw3TgzHxeWAw",
        "colab_type": "code",
        "colab": {
          "base_uri": "https://localhost:8080/",
          "height": 34
        },
        "outputId": "4899816a-2a66-4a0d-ce05-c5d736f1f0dc"
      },
      "source": [
        "X, Y = load_images(food_nutrients, images_folder)\n",
        "print(len(X), len(Y))"
      ],
      "execution_count": 78,
      "outputs": [
        {
          "output_type": "display_data",
          "data": {
            "text/html": [
              ""
            ],
            "text/plain": [
              "<IPython.core.display.HTML object>"
            ]
          },
          "metadata": {
            "tags": []
          }
        },
        {
          "output_type": "stream",
          "text": [
            "4776 4776\n"
          ],
          "name": "stdout"
        }
      ]
    }
  ]
}