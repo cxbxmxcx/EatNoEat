{
  "nbformat": 4,
  "nbformat_minor": 0,
  "metadata": {
    "colab": {
      "name": "Chapter_9_Data_Prep.ipynb",
      "provenance": [],
      "collapsed_sections": [],
      "authorship_tag": "ABX9TyMwY/RsAd088wAh/kD/46t7",
      "include_colab_link": true
    },
    "kernelspec": {
      "name": "python3",
      "display_name": "Python 3"
    }
  },
  "cells": [
    {
      "cell_type": "markdown",
      "metadata": {
        "id": "view-in-github",
        "colab_type": "text"
      },
      "source": [
        "<a href=\"https://colab.research.google.com/github/cxbxmxcx/EatNoEat/blob/master/Chapter_9_Data_Prep.ipynb\" target=\"_parent\"><img src=\"https://colab.research.google.com/assets/colab-badge.svg\" alt=\"Open In Colab\"/></a>"
      ]
    },
    {
      "cell_type": "markdown",
      "metadata": {
        "id": "d8L9WZAaZmzC",
        "colab_type": "text"
      },
      "source": [
        "Imports\n"
      ]
    },
    {
      "cell_type": "code",
      "metadata": {
        "id": "sfdy3VuQZdeD",
        "colab_type": "code",
        "colab": {}
      },
      "source": [
        "import tensorflow as tf\n",
        "import matplotlib.pyplot as plt\n",
        "\n",
        "# Scikit-learn includes many helpful utilities\n",
        "from sklearn.model_selection import train_test_split\n",
        "from sklearn.utils import shuffle\n",
        "\n",
        "import re\n",
        "import numpy as np\n",
        "import os\n",
        "import time\n",
        "import json\n",
        "from glob import glob\n",
        "from PIL import Image\n",
        "import pickle"
      ],
      "execution_count": 0,
      "outputs": []
    },
    {
      "cell_type": "markdown",
      "metadata": {
        "id": "Qfo3YiOEZvhC",
        "colab_type": "text"
      },
      "source": [
        "Download Recipe Data"
      ]
    },
    {
      "cell_type": "code",
      "metadata": {
        "id": "4UalwM6oZ0ne",
        "colab_type": "code",
        "outputId": "fe4ed7aa-f56f-4b22-e7a5-95af0ab5c63b",
        "colab": {
          "base_uri": "https://localhost:8080/",
          "height": 87
        }
      },
      "source": [
        "data_folder = 'data'\n",
        "recipes_zip = tf.keras.utils.get_file('recipes.zip',                                     \n",
        "                                          origin = 'https://www.dropbox.com/s/i1hvs96mnahozq0/Recipes5k.zip?dl=1',\n",
        "                                          extract = True)\n",
        "print(recipes_zip)\n",
        "data_folder = os.path.dirname(recipes_zip)\n",
        "os.remove(recipes_zip)\n",
        "print(data_folder)"
      ],
      "execution_count": 0,
      "outputs": [
        {
          "output_type": "stream",
          "text": [
            "Downloading data from https://www.dropbox.com/s/i1hvs96mnahozq0/Recipes5k.zip?dl=1\n",
            "164929536/164925728 [==============================] - 18s 0us/step\n",
            "/root/.keras/datasets/recipes.zip\n",
            "/root/.keras/datasets\n"
          ],
          "name": "stdout"
        }
      ]
    },
    {
      "cell_type": "markdown",
      "metadata": {
        "id": "f3kHYdkVaAPm",
        "colab_type": "text"
      },
      "source": [
        "Setup Folder Paths"
      ]
    },
    {
      "cell_type": "code",
      "metadata": {
        "id": "zom2OgexaCbw",
        "colab_type": "code",
        "outputId": "a64f3294-6d80-4936-d9f1-a071f64de0c0",
        "colab": {
          "base_uri": "https://localhost:8080/",
          "height": 52
        }
      },
      "source": [
        "!dir /root/.keras/datasets\n",
        "data_folder = data_folder + '/Recipes5k/'\n",
        "images_folder = data_folder + 'images/'\n",
        "print(images_folder)"
      ],
      "execution_count": 0,
      "outputs": [
        {
          "output_type": "stream",
          "text": [
            "Recipes5k\n",
            "/root/.keras/datasets/Recipes5k/images/\n"
          ],
          "name": "stdout"
        }
      ]
    },
    {
      "cell_type": "code",
      "metadata": {
        "id": "XJvGEKqiaIFd",
        "colab_type": "code",
        "outputId": "fa210b27-b9a0-468f-f2c3-026c5dbab957",
        "colab": {
          "base_uri": "https://localhost:8080/",
          "height": 615
        }
      },
      "source": [
        "%ls {images_folder}"
      ],
      "execution_count": 0,
      "outputs": [
        {
          "output_type": "stream",
          "text": [
            "\u001b[0m\u001b[01;34mapple_pie\u001b[0m/            \u001b[01;34mdumplings\u001b[0m/                \u001b[01;34momelette\u001b[0m/\n",
            "\u001b[01;34mbaby_back_ribs\u001b[0m/       \u001b[01;34medamame\u001b[0m/                  \u001b[01;34monion_rings\u001b[0m/\n",
            "\u001b[01;34mbaklava\u001b[0m/              \u001b[01;34meggs_benedict\u001b[0m/            \u001b[01;34moysters\u001b[0m/\n",
            "\u001b[01;34mbeef_carpaccio\u001b[0m/       \u001b[01;34mescargots\u001b[0m/                \u001b[01;34mpad_thai\u001b[0m/\n",
            "\u001b[01;34mbeef_tacos\u001b[0m/           \u001b[01;34mfalafel\u001b[0m/                  \u001b[01;34mpaella\u001b[0m/\n",
            "\u001b[01;34mbeef_tartare\u001b[0m/         \u001b[01;34mfilet_mignon\u001b[0m/             \u001b[01;34mpancakes\u001b[0m/\n",
            "\u001b[01;34mbeet_salad\u001b[0m/           \u001b[01;34mfish_and_chips\u001b[0m/           \u001b[01;34mpanna_cotta\u001b[0m/\n",
            "\u001b[01;34mbeignets\u001b[0m/             \u001b[01;34mfoie_gras\u001b[0m/                \u001b[01;34mpeking_duck\u001b[0m/\n",
            "\u001b[01;34mbibimbap\u001b[0m/             \u001b[01;34mfrench_fries\u001b[0m/             \u001b[01;34mpho\u001b[0m/\n",
            "\u001b[01;34mbread_pudding\u001b[0m/        \u001b[01;34mfrench_onion_soup\u001b[0m/        \u001b[01;34mpizza\u001b[0m/\n",
            "\u001b[01;34mbreakfast_burrito\u001b[0m/    \u001b[01;34mfrench_toast\u001b[0m/             \u001b[01;34mpork_chop\u001b[0m/\n",
            "\u001b[01;34mbruschetta\u001b[0m/           \u001b[01;34mfried_calamari\u001b[0m/           \u001b[01;34mpoutine\u001b[0m/\n",
            "\u001b[01;34mcaesar_salad\u001b[0m/         \u001b[01;34mfried_rice\u001b[0m/               \u001b[01;34mprime_rib\u001b[0m/\n",
            "\u001b[01;34mcannoli\u001b[0m/              \u001b[01;34mfrozen_yogurt\u001b[0m/            \u001b[01;34mpulled_pork_sandwich\u001b[0m/\n",
            "\u001b[01;34mcaprese_salad\u001b[0m/        \u001b[01;34mgarlic_bread\u001b[0m/             \u001b[01;34mramen\u001b[0m/\n",
            "\u001b[01;34mcarrot_cake\u001b[0m/          \u001b[01;34mgnocchi\u001b[0m/                  \u001b[01;34mravioli\u001b[0m/\n",
            "\u001b[01;34mceviche\u001b[0m/              \u001b[01;34mgreek_salad\u001b[0m/              \u001b[01;34mred_velvet_cake\u001b[0m/\n",
            "\u001b[01;34mcheesecake\u001b[0m/           \u001b[01;34mgrilled_cheese_sandwich\u001b[0m/  \u001b[01;34mrisotto\u001b[0m/\n",
            "\u001b[01;34mcheese_plate\u001b[0m/         \u001b[01;34mgrilled_salmon\u001b[0m/           \u001b[01;34msamosa\u001b[0m/\n",
            "\u001b[01;34mchicken_curry\u001b[0m/        \u001b[01;34mguacamole\u001b[0m/                \u001b[01;34msashimi\u001b[0m/\n",
            "\u001b[01;34mchicken_quesadilla\u001b[0m/   \u001b[01;34mgyoza\u001b[0m/                    \u001b[01;34mscallops\u001b[0m/\n",
            "\u001b[01;34mchicken_wings\u001b[0m/        \u001b[01;34mhamburger\u001b[0m/                \u001b[01;34mseaweed_salad\u001b[0m/\n",
            "\u001b[01;34mchocolate_cake\u001b[0m/       \u001b[01;34mhot_and_sour_soup\u001b[0m/        \u001b[01;34mshrimp_and_grits\u001b[0m/\n",
            "\u001b[01;34mchocolate_ice_cream\u001b[0m/  \u001b[01;34mhot_dog\u001b[0m/                  \u001b[01;34mspaghetti_bolognese\u001b[0m/\n",
            "\u001b[01;34mchocolate_mousse\u001b[0m/     \u001b[01;34mhuevos_rancheros\u001b[0m/         \u001b[01;34mspaghetti_carbonara\u001b[0m/\n",
            "\u001b[01;34mchurros\u001b[0m/              \u001b[01;34mhummus\u001b[0m/                   \u001b[01;34mspring_rolls\u001b[0m/\n",
            "\u001b[01;34mclam_chowder\u001b[0m/         \u001b[01;34mlasagna\u001b[0m/                  \u001b[01;34msteak\u001b[0m/\n",
            "\u001b[01;34mclub_sandwich\u001b[0m/        \u001b[01;34mlobster_bisque\u001b[0m/           \u001b[01;34mstrawberry_shortcake\u001b[0m/\n",
            "\u001b[01;34mcrab_cakes\u001b[0m/           \u001b[01;34mlobster_roll_sandwich\u001b[0m/    \u001b[01;34msushi\u001b[0m/\n",
            "\u001b[01;34mcreme_brulee\u001b[0m/         \u001b[01;34mmacaroni_and_cheese\u001b[0m/      \u001b[01;34mtakoyaki\u001b[0m/\n",
            "\u001b[01;34mcroque_madame\u001b[0m/        \u001b[01;34mmacarons\u001b[0m/                 \u001b[01;34mtiramisu\u001b[0m/\n",
            "\u001b[01;34mcupcakes\u001b[0m/             \u001b[01;34mmiso_soup\u001b[0m/                \u001b[01;34mtuna_tartare\u001b[0m/\n",
            "\u001b[01;34mdeviled_eggs\u001b[0m/         \u001b[01;34mmussels\u001b[0m/                  \u001b[01;34mwaffles\u001b[0m/\n",
            "\u001b[01;34mdonuts\u001b[0m/               \u001b[01;34mnachos\u001b[0m/\n"
          ],
          "name": "stdout"
        }
      ]
    },
    {
      "cell_type": "markdown",
      "metadata": {
        "id": "QgpQX_ygaXtZ",
        "colab_type": "text"
      },
      "source": [
        "Extra Imports"
      ]
    },
    {
      "cell_type": "code",
      "metadata": {
        "id": "6_YdiN3J5Izo",
        "colab_type": "code",
        "outputId": "d0edc4a8-41f7-4c4b-8747-66f3431056cd",
        "colab": {
          "base_uri": "https://localhost:8080/",
          "height": 90
        }
      },
      "source": [
        "foods_txt = tf.keras.utils.get_file('foods.txt',\n",
        "                        origin = 'https://www.dropbox.com/s/6jjje7mhqo9ycyi/foods.txt?dl=1')\n",
        "\n",
        "print(foods_txt)"
      ],
      "execution_count": 0,
      "outputs": [
        {
          "output_type": "stream",
          "text": [
            "Downloading data from https://www.dropbox.com/s/6jjje7mhqo9ycyi/foods.txt?dl=1\n",
            "8192/2298 [==========================================================================================================] - 0s 0us/step\n",
            "/root/.keras/datasets/foods.txt\n"
          ],
          "name": "stdout"
        }
      ]
    },
    {
      "cell_type": "code",
      "metadata": {
        "id": "KEgleHaB8MJm",
        "colab_type": "code",
        "colab": {}
      },
      "source": [
        "def get_category_array(keto, carbs, health):\n",
        "  return np.array([float(keto)-5, float(carbs)-5, float(health)-5])"
      ],
      "execution_count": 0,
      "outputs": []
    },
    {
      "cell_type": "code",
      "metadata": {
        "id": "Wtb1TZRB6wRy",
        "colab_type": "code",
        "colab": {}
      },
      "source": [
        "import csv\n",
        "\n",
        "def get_food_nutrients(nutrient_file):\n",
        "  foods = {}\n",
        "  with open(foods_txt) as csv_file:\n",
        "    csv_reader = csv.reader(csv_file, delimiter=',')\n",
        "    line_count = 0\n",
        "    for row in csv_reader:\n",
        "      if line_count == 0:\n",
        "        print(f'Column names are {\", \".join(row)}')\n",
        "        line_count += 1\n",
        "      else:        \n",
        "        categories = get_category_array(row[1],row[2],row[3])\n",
        "        foods[row[0]] = categories\n",
        "        line_count += 1\n",
        "    print(f'Processed {line_count} lines.')\n",
        "  return foods"
      ],
      "execution_count": 0,
      "outputs": []
    },
    {
      "cell_type": "code",
      "metadata": {
        "id": "A_E6in757P02",
        "colab_type": "code",
        "outputId": "00b8d27d-cac3-4a76-a53d-045be3602b5c",
        "colab": {
          "base_uri": "https://localhost:8080/",
          "height": 90
        }
      },
      "source": [
        "food_nutrients = get_food_nutrients(foods_txt)\n",
        "print(food_nutrients)"
      ],
      "execution_count": 0,
      "outputs": [
        {
          "output_type": "stream",
          "text": [
            "Column names are name, fat, protein, carbs\n",
            "Processed 102 lines.\n",
            "{'apple_pie': array([ 6. , -3.1, 29. ]), 'baby_back_ribs': array([15., 18.,  0.]), 'baklava': array([ 6., -2., 25.]), 'beef_carpaccio': array([ 3., 20., -5.]), 'beef_tacos': array([ 8.,  7., 27.]), 'beef_tartare': array([39. , 28. ,  0.7]), 'beet_salad': array([22. ,  0.9,  8. ]), 'beignets': array([ 3.5,  1. , 35. ]), 'bibimbap': array([ 17.,  31., 150.]), 'bread_pudding': array([ 2.3,  2.7, 67. ]), 'breakfast_burrito': array([23., 24., 67.]), 'bruschetta': array([-0.1, -3.7,  1.2]), 'caesar_salad': array([35.,  5., 18.]), 'cannoli': array([10.,  1., 13.]), 'caprese_salad': array([12.,  0.,  7.]), 'carrot_cake': array([25. ,  1.6, 68. ]), 'ceviche': array([-3.7, 10. , -2.4]), 'cheesecake': array([23. ,  1.9, 27. ]), 'cheese_plate': array([45. , 40. ,  3.3]), 'chicken_curry': array([ 6. , 23. ,  2.5]), 'chicken quesadilla': array([45., 56., 87.]), 'chicken_wings': array([ 1.5, -0.5, -2.4]), 'chocolate_cake': array([17. , -1.2, 53. ]), 'chocolate_ice_cream': array([10.,  0., 32.]), 'chocolate_mousse': array([27. ,  3.4, 27. ]), 'churros': array([10.,  1., 48.]), 'clam_chowder': array([ 5. ,  1.6, 16. ]), 'club_sandwich': array([41., 51., 37.]), 'crab_cakes': array([18., 18., 10.]), 'creme_brulee': array([55. ,  3.3, 25. ]), 'croque_madame': array([33., 32., 52.]), 'cupcakes': array([10. , -2.4, 35. ]), 'deviled_eggs': array([ 0.8, -1.8, -4.5]), 'donuts': array([ 9. , -1.3, 24. ]), 'dumplings': array([-3.3, -3. ,  7. ]), 'edamame': array([-1. ,  4.2,  1.9]), 'eggs_benedict': array([50., 25., 25.]), 'escargots': array([-5., -1., -5.]), 'falafel': array([-2. , -2.7,  0.4]), 'filet_mignon': array([10., 17., -5.]), 'fish_and_chips': array([21., 38., 66.]), 'foie_gras': array([ 0.7, -3.5, -4.4]), 'french_fries': array([12., -1., 43.]), 'french_onion_soup': array([19., 16., 35.]), 'french_toast': array([ 6. ,  2.3, 18. ]), 'fried_calamari': array([10., 13., 32.]), 'fried_rice': array([-0.9,  0.5, 40. ]), 'frozen_yogurt': array([ 1.3,  0.2, 33. ]), 'garlic_bread': array([ 2.1, -1.4, 13. ]), 'gnocchi': array([-3.5,  2.7, 47. ]), 'greek_salad': array([ 8.,  3., 12.]), 'grilled_cheese_sandwich': array([18.,  7., 23.]), 'grilled_salmon': array([23., 45., -5.]), 'guacamole': array([-0.9, -4.4, -2.4]), 'gyoza': array([-1.2, -1.5,  2.4]), 'hamburger': array([22., 29., 35.]), 'hot_and_sour_soup': array([-2.2,  1. ,  5. ]), 'hot_dog': array([ 9. ,  0.6, -3.7]), 'huevos_rancheros': array([38., 24., 34.]), 'hummus': array([ 0.8, -0.3,  3.6]), 'lasagna': array([27., 39., 30.]), 'lobster_bisque': array([9., 9., 3.]), 'lobster_roll_sandwich': array([17., 37., 28.]), 'macaroni_and_cheese': array([11. ,  4.7, 42. ]), 'macarons': array([-3.1, -4.2,  1. ]), 'miso_soup': array([-2. ,  0.8, -1.5]), 'mussels': array([-1.2, 15. ,  1.3]), 'nachos': array([91., 62., 21.]), 'omelette': array([20. , 16. , -3.6]), 'onion_rings': array([ 49.,   9., 110.]), 'oysters': array([-3.8, -0.3, -2.5]), 'pad_thai': array([40., 59., 41.]), 'paella': array([17., 20., 29.]), 'pancakes': array([-1.1, -2.4,  6. ]), 'panna_cotta': array([29. , -2.2, 14. ]), 'peking_duck': array([36., 25., 37.]), 'pho': array([ 9., 42., 73.]), 'pizza': array([ 5.,  7., 31.]), 'pork_chop': array([12., 35., -5.]), 'poutine': array([52., 23., 61.]), 'prime_rib': array([18., 14., -5.]), 'pulled_pork_sandwich': array([ 2.5, 29. , 76. ]), 'ramen': array([ 30.,  43., 106.]), 'ravioli': array([-3.4, -2.9, -0.5]), 'red_velvet_cake': array([18. , -0.8, 31. ]), 'risotto': array([ 8.,  9., 49.]), 'samosa': array([12. , -1.5, 19. ]), 'sashimi': array([-3.8,  0.3, -4.7]), 'scallops': array([-4.9, -2.3, -4.3]), 'seaweed_salad': array([-2., -3., 13.]), 'shrimp_and_grits': array([35., 41., 37.]), 'spaghetti_bolognese': array([17., 30., 79.]), 'spaghetti_carbonara': array([ 28.,  39., 128.]), 'spring_rolls': array([ 1.2, -1.3, 14. ]), 'steak': array([36., 53., -5.]), 'strawberry_shortcake': array([24. ,  1.7, 47. ]), 'sushi': array([14. ,  2.8, 33. ]), 'takoyaki': array([-2.5, -2. ,  0.8]), 'tiramisu': array([39. ,  3.3, 30. ]), 'tuna_tartare': array([ 1.8,  2.7, -3.1]), 'waffles': array([ 6. ,  0.9, 20. ])}\n"
          ],
          "name": "stdout"
        }
      ]
    },
    {
      "cell_type": "code",
      "metadata": {
        "id": "MdBft1WfaVf6",
        "colab_type": "code",
        "colab": {}
      },
      "source": [
        "from fastprogress.fastprogress import master_bar, progress_bar\n",
        "from IPython.display import Image\n",
        "from os import listdir\n",
        "from pickle import dump"
      ],
      "execution_count": 0,
      "outputs": []
    },
    {
      "cell_type": "code",
      "metadata": {
        "id": "_5nnzgbGd9ZI",
        "colab_type": "code",
        "colab": {}
      },
      "source": [
        "def load_image(image_path):\n",
        "  img = tf.io.read_file(image_path)\n",
        "  img = tf.image.decode_jpeg(img, channels=3)\n",
        "  img = tf.image.resize(img, (299, 299))\n",
        "  img = tf.keras.applications.inception_v3.preprocess_input(img)\n",
        "  return img, image_path"
      ],
      "execution_count": 0,
      "outputs": []
    },
    {
      "cell_type": "code",
      "metadata": {
        "id": "eKxoJX7Ydacr",
        "colab_type": "code",
        "colab": {}
      },
      "source": [
        "def load_images(food_w_nutrients, directory):\n",
        "  X = []\n",
        "  Y = []\n",
        "  mb = master_bar(listdir(directory))\n",
        "  for food_group in mb: \n",
        "    try:\n",
        "      for pic in progress_bar(listdir(directory + food_group),\n",
        "                              parent=mb, comment='food = ' + food_group):\n",
        "        filename = directory + food_group + '/' + pic\n",
        "        image, img_path = load_image(filename)\n",
        "        Y.append(food_w_nutrients[food_group])\n",
        "        X.append(image)\n",
        "    except:\n",
        "      continue\n",
        "  return X,Y\n"
      ],
      "execution_count": 0,
      "outputs": []
    },
    {
      "cell_type": "code",
      "metadata": {
        "id": "gw3TgzHxeWAw",
        "colab_type": "code",
        "outputId": "0c772b3d-b5d4-4b0f-85b0-5295c794d79c",
        "colab": {
          "base_uri": "https://localhost:8080/",
          "height": 34
        }
      },
      "source": [
        "X, Y = load_images(food_nutrients, images_folder)\n",
        "print(len(X), len(Y))"
      ],
      "execution_count": 0,
      "outputs": [
        {
          "output_type": "display_data",
          "data": {
            "text/html": [
              ""
            ],
            "text/plain": [
              "<IPython.core.display.HTML object>"
            ]
          },
          "metadata": {
            "tags": []
          }
        },
        {
          "output_type": "stream",
          "text": [
            "4776 4776\n"
          ],
          "name": "stdout"
        }
      ]
    }
  ]
}