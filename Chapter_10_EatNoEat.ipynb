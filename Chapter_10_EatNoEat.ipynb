{
  "nbformat": 4,
  "nbformat_minor": 0,
  "metadata": {
    "colab": {
      "name": "Chapter_10_EatNoEat.ipynb",
      "provenance": [],
      "collapsed_sections": [],
      "authorship_tag": "ABX9TyNsUzWUpiEUHApUcp8HV/QE",
      "include_colab_link": true
    },
    "kernelspec": {
      "name": "python3",
      "display_name": "Python 3"
    },
    "widgets": {
      "application/vnd.jupyter.widget-state+json": {
        "6b2c49177ddb42ce9a9982b1a1bf6695": {
          "model_module": "@jupyter-widgets/controls",
          "model_name": "HBoxModel",
          "state": {
            "_view_name": "HBoxView",
            "_dom_classes": [],
            "_model_name": "HBoxModel",
            "_view_module": "@jupyter-widgets/controls",
            "_model_module_version": "1.5.0",
            "_view_count": null,
            "_view_module_version": "1.5.0",
            "box_style": "",
            "layout": "IPY_MODEL_999a8bb09d154e3ea7055ecba99de902",
            "_model_module": "@jupyter-widgets/controls",
            "children": [
              "IPY_MODEL_e7d9b34cd8f942238ae29dcc6c9e2cbe",
              "IPY_MODEL_048d7eaf8f7845088d474ce777b0049d"
            ]
          }
        },
        "999a8bb09d154e3ea7055ecba99de902": {
          "model_module": "@jupyter-widgets/base",
          "model_name": "LayoutModel",
          "state": {
            "_view_name": "LayoutView",
            "grid_template_rows": null,
            "right": null,
            "justify_content": null,
            "_view_module": "@jupyter-widgets/base",
            "overflow": null,
            "_model_module_version": "1.2.0",
            "_view_count": null,
            "flex_flow": null,
            "width": null,
            "min_width": null,
            "border": null,
            "align_items": null,
            "bottom": null,
            "_model_module": "@jupyter-widgets/base",
            "top": null,
            "grid_column": null,
            "overflow_y": null,
            "overflow_x": null,
            "grid_auto_flow": null,
            "grid_area": null,
            "grid_template_columns": null,
            "flex": null,
            "_model_name": "LayoutModel",
            "justify_items": null,
            "grid_row": null,
            "max_height": null,
            "align_content": null,
            "visibility": null,
            "align_self": null,
            "height": null,
            "min_height": null,
            "padding": null,
            "grid_auto_rows": null,
            "grid_gap": null,
            "max_width": null,
            "order": null,
            "_view_module_version": "1.2.0",
            "grid_template_areas": null,
            "object_position": null,
            "object_fit": null,
            "grid_auto_columns": null,
            "margin": null,
            "display": null,
            "left": null
          }
        },
        "e7d9b34cd8f942238ae29dcc6c9e2cbe": {
          "model_module": "@jupyter-widgets/controls",
          "model_name": "FloatProgressModel",
          "state": {
            "_view_name": "ProgressView",
            "style": "IPY_MODEL_eab605a5484d4fb290979ca650f9a305",
            "_dom_classes": [],
            "description": "100%",
            "_model_name": "FloatProgressModel",
            "bar_style": "success",
            "max": 930,
            "_view_module": "@jupyter-widgets/controls",
            "_model_module_version": "1.5.0",
            "value": 930,
            "_view_count": null,
            "_view_module_version": "1.5.0",
            "orientation": "horizontal",
            "min": 0,
            "description_tooltip": null,
            "_model_module": "@jupyter-widgets/controls",
            "layout": "IPY_MODEL_f55a661f4ddc433aa0d27bfc02d21fd3"
          }
        },
        "048d7eaf8f7845088d474ce777b0049d": {
          "model_module": "@jupyter-widgets/controls",
          "model_name": "HTMLModel",
          "state": {
            "_view_name": "HTMLView",
            "style": "IPY_MODEL_64ed07a61ec14deeb99ff60335ccb2b3",
            "_dom_classes": [],
            "description": "",
            "_model_name": "HTMLModel",
            "placeholder": "​",
            "_view_module": "@jupyter-widgets/controls",
            "_model_module_version": "1.5.0",
            "value": " 930/930 [01:49&lt;00:00,  8.48it/s]",
            "_view_count": null,
            "_view_module_version": "1.5.0",
            "description_tooltip": null,
            "_model_module": "@jupyter-widgets/controls",
            "layout": "IPY_MODEL_f31bfe50807a457d902bef95c1b01176"
          }
        },
        "eab605a5484d4fb290979ca650f9a305": {
          "model_module": "@jupyter-widgets/controls",
          "model_name": "ProgressStyleModel",
          "state": {
            "_view_name": "StyleView",
            "_model_name": "ProgressStyleModel",
            "description_width": "initial",
            "_view_module": "@jupyter-widgets/base",
            "_model_module_version": "1.5.0",
            "_view_count": null,
            "_view_module_version": "1.2.0",
            "bar_color": null,
            "_model_module": "@jupyter-widgets/controls"
          }
        },
        "f55a661f4ddc433aa0d27bfc02d21fd3": {
          "model_module": "@jupyter-widgets/base",
          "model_name": "LayoutModel",
          "state": {
            "_view_name": "LayoutView",
            "grid_template_rows": null,
            "right": null,
            "justify_content": null,
            "_view_module": "@jupyter-widgets/base",
            "overflow": null,
            "_model_module_version": "1.2.0",
            "_view_count": null,
            "flex_flow": null,
            "width": null,
            "min_width": null,
            "border": null,
            "align_items": null,
            "bottom": null,
            "_model_module": "@jupyter-widgets/base",
            "top": null,
            "grid_column": null,
            "overflow_y": null,
            "overflow_x": null,
            "grid_auto_flow": null,
            "grid_area": null,
            "grid_template_columns": null,
            "flex": null,
            "_model_name": "LayoutModel",
            "justify_items": null,
            "grid_row": null,
            "max_height": null,
            "align_content": null,
            "visibility": null,
            "align_self": null,
            "height": null,
            "min_height": null,
            "padding": null,
            "grid_auto_rows": null,
            "grid_gap": null,
            "max_width": null,
            "order": null,
            "_view_module_version": "1.2.0",
            "grid_template_areas": null,
            "object_position": null,
            "object_fit": null,
            "grid_auto_columns": null,
            "margin": null,
            "display": null,
            "left": null
          }
        },
        "64ed07a61ec14deeb99ff60335ccb2b3": {
          "model_module": "@jupyter-widgets/controls",
          "model_name": "DescriptionStyleModel",
          "state": {
            "_view_name": "StyleView",
            "_model_name": "DescriptionStyleModel",
            "description_width": "",
            "_view_module": "@jupyter-widgets/base",
            "_model_module_version": "1.5.0",
            "_view_count": null,
            "_view_module_version": "1.2.0",
            "_model_module": "@jupyter-widgets/controls"
          }
        },
        "f31bfe50807a457d902bef95c1b01176": {
          "model_module": "@jupyter-widgets/base",
          "model_name": "LayoutModel",
          "state": {
            "_view_name": "LayoutView",
            "grid_template_rows": null,
            "right": null,
            "justify_content": null,
            "_view_module": "@jupyter-widgets/base",
            "overflow": null,
            "_model_module_version": "1.2.0",
            "_view_count": null,
            "flex_flow": null,
            "width": null,
            "min_width": null,
            "border": null,
            "align_items": null,
            "bottom": null,
            "_model_module": "@jupyter-widgets/base",
            "top": null,
            "grid_column": null,
            "overflow_y": null,
            "overflow_x": null,
            "grid_auto_flow": null,
            "grid_area": null,
            "grid_template_columns": null,
            "flex": null,
            "_model_name": "LayoutModel",
            "justify_items": null,
            "grid_row": null,
            "max_height": null,
            "align_content": null,
            "visibility": null,
            "align_self": null,
            "height": null,
            "min_height": null,
            "padding": null,
            "grid_auto_rows": null,
            "grid_gap": null,
            "max_width": null,
            "order": null,
            "_view_module_version": "1.2.0",
            "grid_template_areas": null,
            "object_position": null,
            "object_fit": null,
            "grid_auto_columns": null,
            "margin": null,
            "display": null,
            "left": null
          }
        },
        "0b69835a678c4b579bfd041eb6be2681": {
          "model_module": "@jupyter-widgets/controls",
          "model_name": "LabelModel",
          "state": {
            "_view_name": "LabelView",
            "style": "IPY_MODEL_c10d0cb7d6f440958932e8c0e2587e55",
            "_dom_classes": [],
            "description": "",
            "_model_name": "LabelModel",
            "placeholder": "​",
            "_view_module": "@jupyter-widgets/controls",
            "_model_module_version": "1.5.0",
            "value": "Suggested -> No Eat",
            "_view_count": null,
            "_view_module_version": "1.5.0",
            "description_tooltip": null,
            "_model_module": "@jupyter-widgets/controls",
            "layout": "IPY_MODEL_4ad1855d7d5b4c88941e7af1ad6d1f54"
          }
        },
        "c10d0cb7d6f440958932e8c0e2587e55": {
          "model_module": "@jupyter-widgets/controls",
          "model_name": "DescriptionStyleModel",
          "state": {
            "_view_name": "StyleView",
            "_model_name": "DescriptionStyleModel",
            "description_width": "",
            "_view_module": "@jupyter-widgets/base",
            "_model_module_version": "1.5.0",
            "_view_count": null,
            "_view_module_version": "1.2.0",
            "_model_module": "@jupyter-widgets/controls"
          }
        },
        "4ad1855d7d5b4c88941e7af1ad6d1f54": {
          "model_module": "@jupyter-widgets/base",
          "model_name": "LayoutModel",
          "state": {
            "_view_name": "LayoutView",
            "grid_template_rows": null,
            "right": null,
            "justify_content": null,
            "_view_module": "@jupyter-widgets/base",
            "overflow": null,
            "_model_module_version": "1.2.0",
            "_view_count": null,
            "flex_flow": null,
            "width": null,
            "min_width": null,
            "border": null,
            "align_items": null,
            "bottom": null,
            "_model_module": "@jupyter-widgets/base",
            "top": null,
            "grid_column": null,
            "overflow_y": null,
            "overflow_x": null,
            "grid_auto_flow": null,
            "grid_area": null,
            "grid_template_columns": null,
            "flex": null,
            "_model_name": "LayoutModel",
            "justify_items": null,
            "grid_row": null,
            "max_height": null,
            "align_content": null,
            "visibility": null,
            "align_self": null,
            "height": null,
            "min_height": null,
            "padding": null,
            "grid_auto_rows": null,
            "grid_gap": null,
            "max_width": null,
            "order": null,
            "_view_module_version": "1.2.0",
            "grid_template_areas": null,
            "object_position": null,
            "object_fit": null,
            "grid_auto_columns": null,
            "margin": null,
            "display": null,
            "left": null
          }
        }
      }
    }
  },
  "cells": [
    {
      "cell_type": "markdown",
      "metadata": {
        "id": "view-in-github",
        "colab_type": "text"
      },
      "source": [
        "<a href=\"https://colab.research.google.com/github/cxbxmxcx/EatNoEat/blob/master/Chapter_10_EatNoEat.ipynb\" target=\"_parent\"><img src=\"https://colab.research.google.com/assets/colab-badge.svg\" alt=\"Open In Colab\"/></a>"
      ]
    },
    {
      "cell_type": "code",
      "metadata": {
        "id": "Dox_aImD3hkt",
        "colab_type": "code",
        "outputId": "8bf16a33-7873-41bd-b3cb-8803e1e44b45",
        "colab": {
          "base_uri": "https://localhost:8080/",
          "height": 134
        }
      },
      "source": [
        "!git clone https://github.com/cxbxmxcx/EatNoEat.git"
      ],
      "execution_count": 1,
      "outputs": [
        {
          "output_type": "stream",
          "text": [
            "Cloning into 'EatNoEat'...\n",
            "remote: Enumerating objects: 182, done.\u001b[K\n",
            "remote: Counting objects: 100% (182/182), done.\u001b[K\n",
            "remote: Compressing objects: 100% (96/96), done.\u001b[K\n",
            "remote: Total 182 (delta 80), reused 131 (delta 49), pack-reused 0\u001b[K\n",
            "Receiving objects: 100% (182/182), 1.95 MiB | 6.01 MiB/s, done.\n",
            "Resolving deltas: 100% (80/80), done.\n"
          ],
          "name": "stdout"
        }
      ]
    },
    {
      "cell_type": "code",
      "metadata": {
        "id": "-7Nzj9D_320y",
        "colab_type": "code",
        "outputId": "472dfecd-96a6-4e5d-affe-ed194fc6470b",
        "colab": {
          "base_uri": "https://localhost:8080/",
          "height": 34
        }
      },
      "source": [
        "%cd EatNoEat/"
      ],
      "execution_count": 2,
      "outputs": [
        {
          "output_type": "stream",
          "text": [
            "/content/EatNoEat\n"
          ],
          "name": "stdout"
        }
      ]
    },
    {
      "cell_type": "code",
      "metadata": {
        "id": "AmQkcpvQ362U",
        "colab_type": "code",
        "outputId": "b29c8b30-91c6-479c-9efe-85e0bdf9fbd9",
        "colab": {
          "base_uri": "https://localhost:8080/",
          "height": 121
        }
      },
      "source": [
        "import drive as d\n",
        "\n",
        "drive, images, training = d.mount_drive()"
      ],
      "execution_count": 3,
      "outputs": [
        {
          "output_type": "stream",
          "text": [
            "Go to this URL in a browser: https://accounts.google.com/o/oauth2/auth?client_id=947318989803-6bn6qk8qdgf4n4g3pfee6491hc0brc4i.apps.googleusercontent.com&redirect_uri=urn%3aietf%3awg%3aoauth%3a2.0%3aoob&response_type=code&scope=email%20https%3a%2f%2fwww.googleapis.com%2fauth%2fdocs.test%20https%3a%2f%2fwww.googleapis.com%2fauth%2fdrive%20https%3a%2f%2fwww.googleapis.com%2fauth%2fdrive.photos.readonly%20https%3a%2f%2fwww.googleapis.com%2fauth%2fpeopleapi.readonly\n",
            "\n",
            "Enter your authorization code:\n",
            "··········\n",
            "Mounted at /content/gdrive\n"
          ],
          "name": "stdout"
        }
      ]
    },
    {
      "cell_type": "code",
      "metadata": {
        "id": "fsjJjWcz6956",
        "colab_type": "code",
        "outputId": "24ae77d0-33cb-4907-fe0e-321b53721c4c",
        "colab": {
          "base_uri": "https://localhost:8080/",
          "height": 34
        }
      },
      "source": [
        "print(drive, images, training)"
      ],
      "execution_count": 4,
      "outputs": [
        {
          "output_type": "stream",
          "text": [
            "/content/gdrive/My Drive/ /content/gdrive/My Drive/TestImages/ /content/gdrive/My Drive/Traning/\n"
          ],
          "name": "stdout"
        }
      ]
    },
    {
      "cell_type": "code",
      "metadata": {
        "id": "ekAcErh48RD4",
        "colab_type": "code",
        "outputId": "aa03dc20-9942-49ab-fdba-73ecea6999b1",
        "colab": {
          "base_uri": "https://localhost:8080/",
          "height": 102,
          "referenced_widgets": [
            "6b2c49177ddb42ce9a9982b1a1bf6695",
            "999a8bb09d154e3ea7055ecba99de902",
            "e7d9b34cd8f942238ae29dcc6c9e2cbe",
            "048d7eaf8f7845088d474ce777b0049d",
            "eab605a5484d4fb290979ca650f9a305",
            "f55a661f4ddc433aa0d27bfc02d21fd3",
            "64ed07a61ec14deeb99ff60335ccb2b3",
            "f31bfe50807a457d902bef95c1b01176"
          ]
        }
      },
      "source": [
        "import dqn_agent as agent\n",
        "\n",
        "dqn = agent.train_dqn(training)"
      ],
      "execution_count": 5,
      "outputs": [
        {
          "output_type": "stream",
          "text": [
            "[(array([[ 0.4596829 , -0.6870861 ,  0.53766775]], dtype=float32), 1, '/content/gdrive/My Drive/TestImages/french_toast.jpg'), (array([[-0.97074133, -0.6522383 ,  1.1434978 ]], dtype=float32), 1, '/content/gdrive/My Drive/TestImages/pizza.jpg'), (array([[ 1.7253977, -1.5786446,  1.4484838]], dtype=float32), 0, '/content/gdrive/My Drive/TestImages/bip.jpg'), (array([[-1.6101956,  1.4084429,  1.4795756]], dtype=float32), 1, '/content/gdrive/My Drive/TestImages/poutine.jpg'), (array([[ 0.3746992 , -0.96197677,  1.1125895 ]], dtype=float32), 1, '/content/gdrive/My Drive/TestImages/hot_dog.jpg'), (array([[-2.0631292,  2.5932405,  0.7647727]], dtype=float32), 1, '/content/gdrive/My Drive/TestImages/apple_pie.jpg'), (array([[ 1.9650922, -1.8086189,  2.7251496]], dtype=float32), 0, '/content/gdrive/My Drive/TestImages/ramen.jpg'), (array([[-1.577625  ,  1.9875807 ,  0.24496809]], dtype=float32), 1, '/content/gdrive/My Drive/TestImages/hamburger.jpg'), (array([[ 4.1403537, -3.6440444,  2.382199 ]], dtype=float32), 0, '/content/gdrive/My Drive/TestImages/ribs.jpg'), (array([[-0.8753167,  0.3367659,  1.1456418]], dtype=float32), 1, '/content/gdrive/My Drive/TestImages/fish_and_chips.jpg'), (array([[ 3.8786335, -3.6491632,  2.9684994]], dtype=float32), 0, '/content/gdrive/My Drive/TestImages/steak.jpg'), (array([[ 3.8786335, -3.6491632,  2.9684994]], dtype=float32), 0, '/content/gdrive/My Drive/TestImages/steak.jpg'), (array([[ 3.9119604, -3.691474 ,  2.3868763]], dtype=float32), 0, '/content/gdrive/My Drive/TestImages/prime_rib.jpg'), (array([[-2.5465398 ,  1.9888964 ,  0.49512625]], dtype=float32), 1, '/content/gdrive/My Drive/TestImages/pie.jpg'), (array([[-0.5668168,  0.8297967,  1.3977656]], dtype=float32), 1, '/content/gdrive/My Drive/TestImages/french_toast2.jpg'), (array([[-0.5668168,  0.8297967,  1.3977656]], dtype=float32), 1, '/content/gdrive/My Drive/TestImages/french_toast2.jpg'), (array([[-1.9724267,  1.313742 ,  0.8918833]], dtype=float32), 0, '/content/gdrive/My Drive/TestImages/fried_chicken.jpg'), (array([[0.0751581 , 0.07849113, 0.7543536 ]], dtype=float32), 0, '/content/gdrive/My Drive/TestImages/peking_duck.jpg'), (array([[ 2.922775 , -3.2461894,  2.8964548]], dtype=float32), 0, '/content/gdrive/My Drive/TestImages/beef_taco.jpg'), (array([[-0.04675353, -0.68999624,  1.8987234 ]], dtype=float32), 1, '/content/gdrive/My Drive/TestImages/shrimp_and_grits.jpg'), (array([[-2.4973934,  4.412136 , -0.999505 ]], dtype=float32), 1, '/content/gdrive/My Drive/TestImages/chocolate_cake.jpg'), (array([[-2.0371468,  2.710639 , -1.1655364]], dtype=float32), 1, '/content/gdrive/My Drive/TestImages/churro.jpg'), (array([[-2.0612726 ,  2.1983657 ,  0.04010395]], dtype=float32), 1, '/content/gdrive/My Drive/TestImages/french_fries.jpg'), (array([[ 1.4173576, -1.5349269,  1.8039471]], dtype=float32), 0, '/content/gdrive/My Drive/TestImages/hamburger3.jpg'), (array([[ 3.0080345, -2.3601553,  3.5261903]], dtype=float32), 0, '/content/gdrive/My Drive/TestImages/salad.jpg'), (array([[ 1.092739  ,  0.39299402, -0.44739386]], dtype=float32), 0, '/content/gdrive/My Drive/TestImages/oyster.jpg'), (array([[-2.1714385,  2.9238632, -0.6528021]], dtype=float32), 1, '/content/gdrive/My Drive/TestImages/ribeye.jpg'), (array([[ 2.6190166, -2.1315284,  2.054519 ]], dtype=float32), 0, '/content/gdrive/My Drive/TestImages/tartar.jpg'), (array([[ 1.9240057, -0.7719078,  1.4482259]], dtype=float32), 1, '/content/gdrive/My Drive/TestImages/beignet.jpg'), (array([[-2.6103356,  3.2270284, -0.8174268]], dtype=float32), 1, '/content/gdrive/My Drive/TestImages/donuts.jpg'), (array([[ 0.6356325 , -0.43606806,  1.4432826 ]], dtype=float32), 1, '/content/gdrive/My Drive/TestImages/dumplings.jpg')]\n"
          ],
          "name": "stdout"
        },
        {
          "output_type": "display_data",
          "data": {
            "application/vnd.jupyter.widget-view+json": {
              "model_id": "6b2c49177ddb42ce9a9982b1a1bf6695",
              "version_minor": 0,
              "version_major": 2
            },
            "text/plain": [
              "HBox(children=(FloatProgress(value=0.0, max=930.0), HTML(value='')))"
            ]
          },
          "metadata": {
            "tags": []
          }
        },
        {
          "output_type": "stream",
          "text": [
            "\n"
          ],
          "name": "stdout"
        }
      ]
    },
    {
      "cell_type": "code",
      "metadata": {
        "id": "Ak_xzfhsXMem",
        "colab_type": "code",
        "outputId": "f6c72302-1c05-4e94-e979-0125fc667bb2",
        "colab": {
          "base_uri": "https://localhost:8080/",
          "height": 302
        }
      },
      "source": [
        "import tensorflow as tf\n",
        "import numpy as np\n",
        "import nutritionist as n\n",
        "\n",
        "models = drive + 'Models'\n",
        "print(models)\n",
        "x, _ = n.load_image(\"apple_pie.jpg\")\n",
        "img = x[np.newaxis, ...]\n",
        "\n",
        "nutritionist = n.create_model(img)\n",
        "nutritionist.summary()\n",
        "latest = tf.train.latest_checkpoint(models)\n",
        "\n",
        "if latest != None:\n",
        "  nutritionist.load_weights(latest)"
      ],
      "execution_count": 6,
      "outputs": [
        {
          "output_type": "stream",
          "text": [
            "/content/gdrive/My Drive/Models\n",
            "Downloading data from https://storage.googleapis.com/tensorflow/keras-applications/inception_resnet_v2/inception_resnet_v2_weights_tf_dim_ordering_tf_kernels_notop.h5\n",
            "219062272/219055592 [==============================] - 1s 0us/step\n",
            "Model: \"sequential\"\n",
            "_________________________________________________________________\n",
            "Layer (type)                 Output Shape              Param #   \n",
            "=================================================================\n",
            "inception_resnet_v2 (Model)  (None, 8, 8, 1536)        54336736  \n",
            "_________________________________________________________________\n",
            "global_average_pooling2d (Gl (None, 1536)              0         \n",
            "_________________________________________________________________\n",
            "dense (Dense)                (None, 3)                 4611      \n",
            "=================================================================\n",
            "Total params: 54,341,347\n",
            "Trainable params: 54,280,803\n",
            "Non-trainable params: 60,544\n",
            "_________________________________________________________________\n"
          ],
          "name": "stdout"
        }
      ]
    },
    {
      "cell_type": "code",
      "metadata": {
        "id": "Px0OkiyvbH6Z",
        "colab_type": "code",
        "outputId": "195a381d-f5c0-4569-adf0-1f63e2973f4f",
        "colab": {
          "base_uri": "https://localhost:8080/",
          "height": 34
        }
      },
      "source": [
        "print(n.observe_image(\"apple_pie.jpg\", nutritionist)+5)"
      ],
      "execution_count": 7,
      "outputs": [
        {
          "output_type": "stream",
          "text": [
            "[[2.936872  7.593239  5.7647734]]\n"
          ],
          "name": "stdout"
        }
      ]
    },
    {
      "cell_type": "code",
      "metadata": {
        "id": "qAVqfAomeK8p",
        "colab_type": "code",
        "outputId": "8f5edc83-1a13-4db0-b2f7-becb735e4e12",
        "colab": {
          "base_uri": "https://localhost:8080/",
          "height": 529,
          "referenced_widgets": [
            "0b69835a678c4b579bfd041eb6be2681",
            "c10d0cb7d6f440958932e8c0e2587e55",
            "4ad1855d7d5b4c88941e7af1ad6d1f54"
          ]
        }
      },
      "source": [
        "import webcam as wc\n",
        "import ipywidgets as widgets\n",
        "from IPython.display import display\n",
        "from IPython.display import Image\n",
        " \n",
        "try:\n",
        "  filename = wc.take_photo()\n",
        "  state = n.observe_image(filename, nutritionist)\n",
        "  action = dqn.action(state)\n",
        "  eat = \"Eat\" if action ==0 else \"No Eat\"\n",
        "  val = f\"Suggested -> {eat}\"\n",
        "  label = widgets.Label(\n",
        "    value= val,    \n",
        "    disabled=False\n",
        "  )\n",
        "  display(label)\n",
        "  # Show the image which was just taken.\n",
        "  display(Image(filename))\n",
        "except Exception as err:\n",
        "  # Errors will be thrown if the user does not have a webcam or if they do not\n",
        "  # grant the page permission to access it.\n",
        "  print(str(err))"
      ],
      "execution_count": 10,
      "outputs": [
        {
          "output_type": "display_data",
          "data": {
            "application/javascript": [
              "\n",
              "    async function takePhoto(quality) {\n",
              "      const div = document.createElement('div');\n",
              "      const capture = document.createElement('button');\n",
              "      capture.textContent = 'Capture';\n",
              "      div.appendChild(capture);\n",
              "\n",
              "      const video = document.createElement('video');\n",
              "      video.style.display = 'block';\n",
              "      const stream = await navigator.mediaDevices.getUserMedia({video: true});\n",
              "\n",
              "      document.body.appendChild(div);\n",
              "      div.appendChild(video);\n",
              "      video.srcObject = stream;\n",
              "      await video.play();\n",
              "\n",
              "      // Resize the output to fit the video element.\n",
              "      google.colab.output.setIframeHeight(document.documentElement.scrollHeight, true);\n",
              "\n",
              "      // Wait for Capture to be clicked.\n",
              "      await new Promise((resolve) => capture.onclick = resolve);\n",
              "\n",
              "      const canvas = document.createElement('canvas');\n",
              "      canvas.width = video.videoWidth;\n",
              "      canvas.height = video.videoHeight;\n",
              "      canvas.getContext('2d').drawImage(video, 0, 0);\n",
              "      stream.getVideoTracks()[0].stop();\n",
              "      div.remove();\n",
              "      return canvas.toDataURL('image/jpeg', quality);\n",
              "    }\n",
              "    "
            ],
            "text/plain": [
              "<IPython.core.display.Javascript object>"
            ]
          },
          "metadata": {
            "tags": []
          }
        },
        {
          "output_type": "display_data",
          "data": {
            "application/vnd.jupyter.widget-view+json": {
              "model_id": "0b69835a678c4b579bfd041eb6be2681",
              "version_minor": 0,
              "version_major": 2
            },
            "text/plain": [
              "Label(value='Suggested -> No Eat')"
            ]
          },
          "metadata": {
            "tags": []
          }
        },
        {
          "output_type": "display_data",
          "data": {
            "image/jpeg": "[encoded data removed]",
            "text/plain": [
              "<IPython.core.display.Image object>"
            ]
          },
          "metadata": {
            "tags": []
          }
        }
      ]
    }
  ]
}